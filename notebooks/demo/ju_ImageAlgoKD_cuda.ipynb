{
 "cells": [
  {
   "cell_type": "code",
   "execution_count": 1,
   "metadata": {
    "collapsed": true
   },
   "outputs": [],
   "source": [
    "from pylab import *\n",
    "import pandas as pd\n",
    "from timeit import default_timer as timer\n",
    "from ImageAlgoKD import *\n",
    "from tqdm import tqdm"
   ]
  },
  {
   "cell_type": "code",
   "execution_count": 2,
   "metadata": {
    "collapsed": true
   },
   "outputs": [],
   "source": [
    "Points = np.fromfile(\"../../data/MNIST/MNIST_train_data.dat\").reshape(-1,785)\n",
    "Points = Points[:,0:-1]\n",
    "#Points = Points[:1000]\n",
    "nPoints,kPoints = Points.shape\n",
    "wPoints = np.ones(nPoints)"
   ]
  },
  {
   "cell_type": "code",
   "execution_count": 3,
   "metadata": {
    "collapsed": true
   },
   "outputs": [],
   "source": [
    "Points  = Points .astype(np.float32)\n",
    "wPoints = wPoints.astype(np.float32)\n",
    "nPoints = np.int32(nPoints)\n",
    "kPoints = np.int32(kPoints)\n",
    "\n",
    "rho     = np.zeros(nPoints).astype(np.float32)\n",
    "rhorank = np.zeros(nPoints).astype(np.int32)\n",
    "nh      = np.zeros(nPoints).astype(np.int32)\n",
    "nhd     = np.zeros(nPoints).astype(np.float32)"
   ]
  },
  {
   "cell_type": "code",
   "execution_count": 4,
   "metadata": {
    "collapsed": true
   },
   "outputs": [],
   "source": [
    "MAXDISTANCE        = 1.5\n",
    "KERNAL_R           = 0.7\n",
    "KERNAL_R_NORM      = 0.5\n",
    "DECISION_RHO_KAPPA = 4\n",
    "DECISION_NHD       = 0.7\n",
    "CONTINUITY_NHD     = KERNAL_R"
   ]
  },
  {
   "cell_type": "markdown",
   "metadata": {},
   "source": [
    "# 1. Find rho and NearestHigher"
   ]
  },
  {
   "cell_type": "code",
   "execution_count": null,
   "metadata": {},
   "outputs": [
    {
     "name": "stderr",
     "output_type": "stream",
     "text": [
      "\r",
      "  0%|          | 0/100 [00:00<?, ?it/s]"
     ]
    }
   ],
   "source": [
    "start = timer()\n",
    "\n",
    "d_Points  = cuda.mem_alloc(Points.nbytes)\n",
    "d_wPoints = cuda.mem_alloc(wPoints.nbytes)\n",
    "\n",
    "d_rho     = cuda.mem_alloc(rho.nbytes)\n",
    "d_rhorank = cuda.mem_alloc(rhorank.nbytes)\n",
    "d_nh      = cuda.mem_alloc(nh.nbytes)\n",
    "d_nhd     = cuda.mem_alloc(nhd.nbytes)\n",
    "\n",
    "\n",
    "cuda.memcpy_htod( d_Points , Points )\n",
    "cuda.memcpy_htod( d_wPoints, wPoints )\n",
    "NRUN =100\n",
    "for run in tqdm(range(NRUN)):\n",
    "    rho_cuda(d_rho, d_Points, d_wPoints,\n",
    "         nPoints, kPoints, np.float32(KERNAL_R), np.float32(KERNAL_R_NORM),\n",
    "         grid=(int(nPoints/1024)+1,1,1),block=(int(1024),1,1))\n",
    "\n",
    "    rhoranknh_cuda(d_rhorank, d_nh,d_nhd, d_Points, d_rho,\n",
    "               nPoints, kPoints, np.float32(MAXDISTANCE),\n",
    "               grid=(int(nPoints/1024)+1,1,1),block=(int(1024),1,1))\n",
    "    cuda.memcpy_dtoh(rho,d_rho)\n",
    "    cuda.memcpy_dtoh(rhorank,d_rhorank)\n",
    "    cuda.memcpy_dtoh(nh,d_nh)\n",
    "    cuda.memcpy_dtoh(nhd,d_nhd)\n",
    "\n",
    "\n",
    "\n",
    "\n",
    "end = timer()\n",
    "print(\"number of rechits: {}\".format(nPoints))\n",
    "print(\"time: {:3.6} s\".format( (end - start) ))\n",
    "\n",
    "d_Points.free()\n",
    "d_wPoints.free()\n",
    "\n",
    "d_rho.free()\n",
    "d_rhorank.free()\n",
    "d_nh.free()\n",
    "d_nhd.free()"
   ]
  },
  {
   "cell_type": "markdown",
   "metadata": {
    "collapsed": true
   },
   "source": [
    "# 2. Asign Clusters"
   ]
  },
  {
   "cell_type": "code",
   "execution_count": 6,
   "metadata": {
    "collapsed": true
   },
   "outputs": [],
   "source": [
    "cluster = -np.ones(nPoints,int)\n",
    "DECISION_RHO = rho.max()/DECISION_RHO_KAPPA\n",
    "\n",
    "# 2.1 convert rhorank to argsortrho 0(N)\n",
    "argsortrho = np.zeros(nPoints,int)\n",
    "argsortrho[rhorank] = np.arange(nPoints)\n",
    "\n",
    "# 2.2 find seeds\n",
    "selectseed = (rho>DECISION_RHO) & (nhd>DECISION_NHD)\n",
    "seedrho = rho[selectseed]\n",
    "temp = seedrho.argsort()[::-1]\n",
    "seedid = np.empty(len(seedrho), int)\n",
    "seedid[temp] = np.arange(len(seedrho))\n",
    "cluster[selectseed] = seedid\n",
    "\n",
    "# 2.3 asign clusters to seeds\n",
    "for ith in range(nPoints):\n",
    "    i = argsortrho[ith]\n",
    "    if  (cluster[i]<0) & (nhd[i]<CONTINUITY_NHD):\n",
    "        cluster[i] = cluster[nh[i]]"
   ]
  },
  {
   "cell_type": "code",
   "execution_count": 7,
   "metadata": {
    "collapsed": true
   },
   "outputs": [],
   "source": [
    "result = pd.DataFrame()\n",
    "result['rho'] = pd.Series(rho)\n",
    "result['rhorank'] = pd.Series(rhorank)\n",
    "result['nh'] = pd.Series(nh)\n",
    "result['nhd'] = pd.Series(nhd)\n",
    "result['cluster'] = pd.Series(cluster)"
   ]
  },
  {
   "cell_type": "markdown",
   "metadata": {},
   "source": [
    "# Make Plots"
   ]
  },
  {
   "cell_type": "code",
   "execution_count": 8,
   "metadata": {
    "collapsed": true
   },
   "outputs": [],
   "source": [
    "%matplotlib inline\n",
    "plt.style.use('classic')\n",
    "plt.rc(\"figure\",facecolor=\"w\",figsize=(6,4))\n",
    "plt.rc(\"font\",size=10)\n",
    "plt.rc(\"savefig\",dpi=300)"
   ]
  },
  {
   "cell_type": "code",
   "execution_count": 9,
   "metadata": {},
   "outputs": [
    {
     "data": {
      "text/plain": [
       "Text(0.5,1,'Decision Plot')"
      ]
     },
     "execution_count": 9,
     "metadata": {},
     "output_type": "execute_result"
    },
    {
     "data": {
      "image/png": "[encoded data removed]",
      "text/plain": [
       "<matplotlib.figure.Figure at 0x7f6df16b8cc0>"
      ]
     },
     "metadata": {},
     "output_type": "display_data"
    }
   ],
   "source": [
    "plt.scatter(result.rho[selectseed],result.nhd[selectseed],marker='s',\n",
    "            s=70,edgecolor=\"k\",color=\"None\",label=\"seed rechits\")\n",
    "plt.scatter(result.rho, result.nhd, marker='.',edgecolor=\"None\",color=\"k\",label=\"rechits\")\n",
    "plt.axvline(DECISION_RHO,color=\"b\",label=\"seed requirement\")\n",
    "plt.axhline(DECISION_NHD,color=\"b\")\n",
    "\n",
    "plt.xlabel(\"Energy Density [GeV]\")\n",
    "plt.ylabel(\"Separation [cm]\")\n",
    "plt.legend(loc=\"upper left\",fontsize=12)\n",
    "plt.xlim(-0)\n",
    "plt.ylim(0,2.5)\n",
    "plt.grid(True)\n",
    "plt.title(\"Decision Plot\",fontsize=12)"
   ]
  },
  {
   "cell_type": "code",
   "execution_count": 18,
   "metadata": {},
   "outputs": [
    {
     "data": {
      "image/png": "[encoded data removed]",
      "text/plain": [
       "<matplotlib.figure.Figure at 0x7f6df07aee10>"
      ]
     },
     "metadata": {},
     "output_type": "display_data"
    }
   ],
   "source": [
    "cl = Points[cluster==7]\n",
    "for i in range(10):\n",
    "    plt.subplot(1,10,i+1)\n",
    "    img = cl[i].reshape(28,28).T\n",
    "    plt.imshow(img,cmap=\"Greys\")\n",
    "    plt.axis('off')"
   ]
  },
  {
   "cell_type": "code",
   "execution_count": null,
   "metadata": {
    "collapsed": true
   },
   "outputs": [],
   "source": []
  }
 ],
 "metadata": {
  "kernelspec": {
   "display_name": "Python 3",
   "language": "python",
   "name": "python3"
  },
  "language_info": {
   "codemirror_mode": {
    "name": "ipython",
    "version": 3
   },
   "file_extension": ".py",
   "mimetype": "text/x-python",
   "name": "python",
   "nbconvert_exporter": "python",
   "pygments_lexer": "ipython3",
   "version": "3.6.3"
  }
 },
 "nbformat": 4,
 "nbformat_minor": 2
}
