{
 "cells": [
  {
   "cell_type": "code",
   "execution_count": 2,
   "metadata": {
    "collapsed": true
   },
   "outputs": [],
   "source": [
    "from pylab import *\n",
    "import pandas as pd\n",
    "from timeit import default_timer as timer\n",
    "from HGCal_ImageAlgo3D_kernel import *\n",
    "\n",
    "demoevent = \"id==1 \"\n",
    "DatasetDir  = '/home/zchen/Documents/ImageAlogrithm3D/data/'\n",
    "DatasetFile = 'CMSSW93X_pt35_pu200'\n",
    "#DatasetFile = 'CMSSW9304_partGun_PDGid22_x1000_E300.0To300.0_NTUP'"
   ]
  },
  {
   "cell_type": "code",
   "execution_count": 3,
   "metadata": {
    "collapsed": true
   },
   "outputs": [],
   "source": [
    "df = pd.read_pickle(DatasetDir+\"input/\"+DatasetFile+\"_rechit.pkl\")\n",
    "dfgen = pd.read_pickle(DatasetDir+\"input/\"+DatasetFile+\"_gen.pkl\")"
   ]
  },
  {
   "cell_type": "code",
   "execution_count": 4,
   "metadata": {},
   "outputs": [],
   "source": [
    "MAXDISTANCE        = np.float32(200)  #cm\n",
    "LAYER_DISTANCE     = np.float32(1.2)  #cm\n",
    "KERNAL_R           = np.float32(4.0)  #cm\n",
    "KERNAL_R_NORM      = np.float32(2.0)  #cm\n",
    "KERNAL_R_POWER     = np.float32(2.0)  #cm\n",
    "KERNAL_LAYER       = np.float32(2.0)  #number of layer\n",
    "DECISION_RHO_KAPPA = np.float32(10.0) #fractio of max rho\n",
    "DECISION_NHD       = np.float32(4.0)  #cm\n",
    "CONTINUITY_NHD     = np.float32(6.0)  #cm \n",
    "\n",
    "KERNAL_Z           = KERNAL_LAYER*LAYER_DISTANCE"
   ]
  },
  {
   "cell_type": "markdown",
   "metadata": {},
   "source": [
    "# 0.Load Events"
   ]
  },
  {
   "cell_type": "code",
   "execution_count": 6,
   "metadata": {},
   "outputs": [],
   "source": [
    "dfevt = df.query(demoevent)\n",
    "dfevt = dfevt.reset_index(drop=True)\n",
    "\n",
    "x = np.array(dfevt.x).astype(np.float32)\n",
    "y = np.array(dfevt.y).astype(np.float32)\n",
    "z = (np.array(dfevt.z) * LAYER_DISTANCE).astype(np.float32)\n",
    "e = np.array(dfevt.energy).astype(np.float32)\n",
    "\n",
    "N = np.int32(e.size)"
   ]
  },
  {
   "cell_type": "markdown",
   "metadata": {},
   "source": [
    "# 1. Find rho and NearestHigher"
   ]
  },
  {
   "cell_type": "code",
   "execution_count": 9,
   "metadata": {},
   "outputs": [
    {
     "name": "stdout",
     "output_type": "stream",
     "text": [
      "number of rechits: 160009\n",
      "time: 815.762 ms\n"
     ]
    }
   ],
   "source": [
    "rho     = np.zeros(N).astype(np.float32)\n",
    "rhorank = np.zeros(N).astype(np.int32)\n",
    "nh      = np.zeros(N).astype(np.int32)\n",
    "nhd     = np.zeros(N).astype(np.float32)\n",
    "\n",
    "d_x = cuda.mem_alloc(x.nbytes)\n",
    "d_y = cuda.mem_alloc(y.nbytes)\n",
    "d_z = cuda.mem_alloc(z.nbytes)\n",
    "d_e = cuda.mem_alloc(e.nbytes)\n",
    "d_rho     = cuda.mem_alloc(rho.nbytes)\n",
    "d_rhorank = cuda.mem_alloc(rhorank.nbytes)\n",
    "d_nh      = cuda.mem_alloc(nh.nbytes)\n",
    "d_nhd     = cuda.mem_alloc(nhd.nbytes)\n",
    "\n",
    "start = timer()\n",
    "cuda.memcpy_htod(d_x,x)\n",
    "cuda.memcpy_htod(d_y,y)\n",
    "cuda.memcpy_htod(d_z,z)\n",
    "cuda.memcpy_htod(d_e,e)\n",
    "\n",
    "               \n",
    "rho_cuda(d_rho,\n",
    "         d_x, d_y, d_z, d_e,\n",
    "         N, KERNAL_R, KERNAL_R_NORM, KERNAL_R_POWER, KERNAL_Z,\n",
    "         grid=( int(N/1024)+1,1,1), block=(int(1024),1,1) )\n",
    "         \n",
    "rhoranknh_cuda(d_rhorank,d_nh,d_nhd,\n",
    "               d_x,d_y,d_z,d_rho,\n",
    "               N, MAXDISTANCE,\n",
    "               grid=( int(N/1024)+1,1,1), block=(int(1024),1,1) )\n",
    "         \n",
    "\n",
    "cuda.memcpy_dtoh(rho,d_rho)\n",
    "cuda.memcpy_dtoh(rhorank,d_rhorank)\n",
    "cuda.memcpy_dtoh(nh,d_nh)\n",
    "cuda.memcpy_dtoh(nhd,d_nhd)\n",
    "end = timer()\n",
    "print(\"number of rechits: {}\".format(N))\n",
    "print(\"time: {:3.6} ms\".format(1000*(end - start)))\n",
    "\n",
    "d_x.free()\n",
    "d_y.free()\n",
    "d_z.free()\n",
    "d_e.free()\n",
    "d_rho.free()\n",
    "d_rhorank.free()\n",
    "d_nh.free()\n",
    "d_nhd.free()"
   ]
  },
  {
   "cell_type": "markdown",
   "metadata": {
    "collapsed": true
   },
   "source": [
    "# 2. Asign Clusters"
   ]
  },
  {
   "cell_type": "code",
   "execution_count": 11,
   "metadata": {},
   "outputs": [],
   "source": [
    "cluster = -np.ones(N,int)\n",
    "DECISION_RHO = rho.max()/DECISION_RHO_KAPPA\n",
    "\n",
    "# 2.1 convert rhorank to argsortrho 0(N)\n",
    "argsortrho = np.zeros(N,int)\n",
    "argsortrho[rhorank] = np.arange(N)\n",
    "\n",
    "# 2.2 find seeds\n",
    "selectseed = (rho>DECISION_RHO) & (nhd>DECISION_NHD)\n",
    "seedrho = rho[selectseed]\n",
    "temp = seedrho.argsort()[::-1]\n",
    "seedid = np.empty(len(seedrho), int)\n",
    "seedid[temp] = np.arange(len(seedrho))\n",
    "cluster[selectseed] = seedid\n",
    "\n",
    "\n",
    "# 2.3 asign clusters to seeds\n",
    "for ith in range(N):\n",
    "    i = argsortrho[ith]\n",
    "    if  (cluster[i]<0) & (nhd[i]<CONTINUITY_NHD):\n",
    "        cluster[i] = cluster[nh[i]]"
   ]
  },
  {
   "cell_type": "code",
   "execution_count": 12,
   "metadata": {
    "collapsed": true
   },
   "outputs": [],
   "source": [
    "dfevt['rho']     = pd.Series(rho,        index=dfevt.index)\n",
    "dfevt['rhorank'] = pd.Series(rhorank,    index=dfevt.index)\n",
    "dfevt['nh']      = pd.Series(nh,         index=dfevt.index)\n",
    "dfevt['nhd']     = pd.Series(nhd,        index=dfevt.index)\n",
    "dfevt['isseed']  = pd.Series(selectseed, index=dfevt.index)\n",
    "dfevt['cluster'] = pd.Series(cluster,    index=dfevt.index)"
   ]
  },
  {
   "cell_type": "markdown",
   "metadata": {},
   "source": [
    "# Make Plots"
   ]
  },
  {
   "cell_type": "code",
   "execution_count": 13,
   "metadata": {
    "collapsed": true
   },
   "outputs": [],
   "source": [
    "%matplotlib inline\n",
    "plt.style.use('classic')\n",
    "plt.rc(\"figure\",facecolor=\"w\",figsize=(6,4))\n",
    "plt.rc(\"font\",size=10)\n",
    "plt.rc(\"savefig\",dpi=300)"
   ]
  },
  {
   "cell_type": "code",
   "execution_count": 14,
   "metadata": {},
   "outputs": [
    {
     "data": {
      "image/png": "[encoded data removed]",
      "text/plain": [
       "<matplotlib.figure.Figure at 0x7f461c48df98>"
      ]
     },
     "metadata": {},
     "output_type": "display_data"
    }
   ],
   "source": [
    "plt.scatter(rho[selectseed], nhd[selectseed],marker='s',\n",
    "            s=70,edgecolor=\"k\",color=\"None\",label=\"seed rechits\")\n",
    "plt.scatter(rho, nhd, marker='.',edgecolor=\"None\",color=\"k\",label=\"rechits\")\n",
    "plt.axvline(DECISION_RHO,color=\"b\",label=\"seed requirement\")\n",
    "plt.axhline(DECISION_NHD,color=\"b\")\n",
    "\n",
    "plt.xlabel(\"Energy Density [GeV]\")\n",
    "plt.ylabel(\"HND [cm]\")\n",
    "plt.legend(loc=\"upper left\",fontsize=12)\n",
    "plt.xlim(-0.3)\n",
    "plt.ylim(-10,220)\n",
    "plt.grid(True)\n",
    "plt.title(\"Decision Plot\",fontsize=12)\n",
    "\n",
    "#plt.savefig(\"../../plot/decision_cuda.png\")"
   ]
  },
  {
   "cell_type": "code",
   "execution_count": 15,
   "metadata": {
    "collapsed": true
   },
   "outputs": [],
   "source": [
    "gen = dfgen.query(demoevent)"
   ]
  },
  {
   "cell_type": "code",
   "execution_count": 16,
   "metadata": {
    "collapsed": true
   },
   "outputs": [],
   "source": [
    "n = len(gen)\n",
    "genx = np.zeros(n*2)\n",
    "geny = np.zeros(n*2)\n",
    "genz = np.zeros(n*2)\n",
    "for i in range(n):\n",
    "    genx[2*i]=np.array(gen.gx)[i]\n",
    "    geny[2*i]=np.array(gen.gy)[i]\n",
    "    genz[2*i]=np.array(gen.gz)[i]"
   ]
  },
  {
   "cell_type": "code",
   "execution_count": 18,
   "metadata": {},
   "outputs": [
    {
     "data": {
      "text/html": [
       "<script>requirejs.config({paths: { 'plotly': ['https://cdn.plot.ly/plotly-latest.min']},});if(!window.Plotly) {{require(['plotly'],function(plotly) {window.Plotly=plotly;});}}</script>"
      ],
      "text/vnd.plotly.v1+html": [
       "<script>requirejs.config({paths: { 'plotly': ['https://cdn.plot.ly/plotly-latest.min']},});if(!window.Plotly) {{require(['plotly'],function(plotly) {window.Plotly=plotly;});}}</script>"
      ]
     },
     "metadata": {},
     "output_type": "display_data"
    },
    {
     "name": "stderr",
     "output_type": "stream",
     "text": [
      "IOPub data rate exceeded.\n",
      "The notebook server will temporarily stop sending output\n",
      "to the client in order to avoid crashing it.\n",
      "To change this limit, set the config variable\n",
      "`--NotebookApp.iopub_data_rate_limit`.\n"
     ]
    }
   ],
   "source": [
    "import plotly.plotly as py\n",
    "import plotly.graph_objs as go\n",
    "from plotly.offline import download_plotlyjs, init_notebook_mode, plot, iplot\n",
    "import plotly\n",
    "init_notebook_mode(connected=True)\n",
    "\n",
    "dfevt = dfevt.reset_index(drop=True)\n",
    "\n",
    "tempdf = dfevt.query('cluster>-1')\n",
    "tempx,tempy,tempz,tempe,tempclst = tempdf.ox,tempdf.oy,tempdf.oz,tempdf.energy,tempdf.cluster.max()-tempdf.cluster\n",
    "rechits = go.Scatter3d(x=tempx,y=tempz,z=tempy,\n",
    "                       mode='markers',\n",
    "                       marker=dict(size=5*tempe**0.2,color=tempclst,colorscale='Jet',cmax=tempclst.max(),cmin=0,opacity=0.5,\n",
    "                                   line = dict(width = 0))) \n",
    "#tempdf = dfevt.query('(cluster==-1)')\n",
    "tempdf = dfevt.query('(cluster==-1) & (energy>0.02)')\n",
    "\n",
    "tempx,tempy,tempz,tempe,tempclst = tempdf.ox,tempdf.oy,tempdf.oz,tempdf.energy,-1\n",
    "noise   = go.Scatter3d(x=tempx,y=tempz,z=tempy,\n",
    "                       mode='markers',\n",
    "                       marker=dict(size=2,color=\"black\",opacity=0.7,\n",
    "                                   line = dict(width = 0))) \n",
    "\n",
    "genpart = go.Scatter3d(x=genx,\n",
    "                       y=genz,\n",
    "                       z=geny,\n",
    "                       mode='lines',marker=dict(size=0,color=\"red\",opacity=1)) \n",
    "\n",
    "data = [rechits,noise,genpart]\n",
    "layout = go.Layout(scene=dict(xaxis=dict(title='x (cm)'), yaxis=dict(title='z (cm)'), zaxis=dict(title='y (cm)')),\n",
    "                   margin=dict(l=0,r=0,b=0,t=0))\n",
    "\n",
    "fig = go.Figure(data=data, layout=layout)\n",
    "iplot(fig, filename='SinglePi_PU200_cuda')"
   ]
  },
  {
   "cell_type": "code",
   "execution_count": null,
   "metadata": {
    "collapsed": true
   },
   "outputs": [],
   "source": []
  },
  {
   "cell_type": "code",
   "execution_count": null,
   "metadata": {
    "collapsed": true
   },
   "outputs": [],
   "source": []
  }
 ],
 "metadata": {
  "kernelspec": {
   "display_name": "Python 3",
   "language": "python",
   "name": "python3"
  },
  "language_info": {
   "codemirror_mode": {
    "name": "ipython",
    "version": 3
   },
   "file_extension": ".py",
   "mimetype": "text/x-python",
   "name": "python",
   "nbconvert_exporter": "python",
   "pygments_lexer": "ipython3",
   "version": "3.6.3"
  }
 },
 "nbformat": 4,
 "nbformat_minor": 2
}
