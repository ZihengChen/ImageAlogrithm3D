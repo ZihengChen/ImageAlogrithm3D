{
 "cells": [
  {
   "cell_type": "code",
   "execution_count": 1,
   "metadata": {},
   "outputs": [
    {
     "name": "stdout",
     "output_type": "stream",
     "text": [
      "Welcome to JupyROOT 6.10/00\n"
     ]
    }
   ],
   "source": [
    "from HGCal_ImageAlgo3D import *\n",
    "from utility_benchmark import *\n",
    "from timeit import default_timer as timer\n",
    "\n",
    "\n",
    "%matplotlib inline\n",
    "plt.style.use('classic')\n",
    "plt.rc(\"figure\",facecolor=\"w\",figsize=(6,4))\n",
    "plt.rc(\"font\",size=10)\n",
    "plt.rc(\"savefig\",dpi=300)\n",
    "\n",
    "DatasetDir  = '/Users/zihengchen/Documents/HGCal/workplace/data/'\n",
    "DatasetFile = 'CMSSW93X_pt35_pu000'\n",
    "#%run ../scripts/utility_getinputhits_genpart.py $DatasetDir $DatasetFile 6 100"
   ]
  },
  {
   "cell_type": "code",
   "execution_count": 2,
   "metadata": {
    "collapsed": true
   },
   "outputs": [],
   "source": [
    "df = pd.read_pickle(DatasetDir+\"input/\"+DatasetFile+\"_rechit.pkl\")"
   ]
  },
  {
   "cell_type": "markdown",
   "metadata": {},
   "source": [
    "# 1. Run clustering"
   ]
  },
  {
   "cell_type": "code",
   "execution_count": 3,
   "metadata": {},
   "outputs": [
    {
     "name": "stderr",
     "output_type": "stream",
     "text": [
      "100%|██████████| 49/49 [00:03<00:00, 13.45it/s]\n"
     ]
    }
   ],
   "source": [
    "ia=ImagingAlgo3D(MAXDISTANCE        = 200,  #cm\n",
    "                 LAYER_DISTANCE     = 1.2,  #cm\n",
    "                 KERNAL_R           = 4.0,  #cm\n",
    "                 KERNAL_R_NORM      = 2.0,  #cm\n",
    "                 KERNAL_R_POWER     = 2.0,  #cm\n",
    "                 KERNAL_LAYER       = 2.0,  #number of layer\n",
    "                 DECISION_RHO_KAPPA = 10.0, #fractio of max rho\n",
    "                 DECISION_NHD       = 4.0,  #cm\n",
    "                 CONTINUITY_NHD     = 6.0   #cm \n",
    "                )\n",
    "dfresultclus = ia.RunImagingAlgo(df,Nevent=100)\n",
    "dfresultclus.to_pickle(\"../data/output/\"+DatasetFile+\"_OutputClus.pkl\")"
   ]
  },
  {
   "cell_type": "markdown",
   "metadata": {
    "collapsed": true
   },
   "source": [
    "# 2. Resolution Plots"
   ]
  },
  {
   "cell_type": "code",
   "execution_count": 4,
   "metadata": {},
   "outputs": [
    {
     "data": {
      "image/png": "[encoded data removed]",
      "text/plain": [
       "<matplotlib.figure.Figure at 0x13017e6a0>"
      ]
     },
     "metadata": {},
     "output_type": "display_data"
    }
   ],
   "source": [
    "bm = Benchmark('CMSSW93X_pt35_pu000')\n",
    "#bm = Benchmark('CMSSW9304_partGun_PDGid22_x100_E30.0To30.0_NTUP')\n",
    "deltarho = 10\n",
    "mybin = np.arange(-0.025,1.5,0.05)\n",
    "energyeff = bm.getEnergyEfficiency(deltarho)\n",
    "\n",
    "sigma,mean= bm.getEffSigma_EnergyEfficiency(deltarho)\n",
    "result = \"EnergyEff: {:6.4}+/-{:6.4}\".format(mean,sigma)\n",
    "\n",
    "\n",
    "h = plt.hist(energyeff,bins=mybin,facecolor='c',histtype=\"stepfilled\",alpha=0.5,lw=0)\n",
    "ymax = 1.3*h[0].max()\n",
    "plt.axvline(1,lw=2,c=\"k\")\n",
    "plt.axvline(mean, lw =1, c=\"k\",linestyle='--')\n",
    "plt.fill([mean-sigma,mean-sigma,mean+sigma,mean+sigma],\n",
    "         [0,ymax,ymax,0],lw=0,facecolor='k',alpha=0.2\n",
    "        )\n",
    "\n",
    "plt.grid(True)\n",
    "plt.xlabel(\"ClustEnergy/GenEnergy\")\n",
    "plt.title(result)\n",
    "plt.xlim(mybin[0],mybin[-1])\n",
    "plt.ylim(0,ymax)\n",
    "plt.savefig(\"../plot/enegyeff_pi_pu000_opt.png\")"
   ]
  },
  {
   "cell_type": "code",
   "execution_count": null,
   "metadata": {
    "collapsed": true
   },
   "outputs": [],
   "source": []
  },
  {
   "cell_type": "code",
   "execution_count": null,
   "metadata": {
    "collapsed": true
   },
   "outputs": [],
   "source": []
  },
  {
   "cell_type": "code",
   "execution_count": null,
   "metadata": {
    "collapsed": true
   },
   "outputs": [],
   "source": []
  }
 ],
 "metadata": {
  "kernelspec": {
   "display_name": "Python 3",
   "language": "python",
   "name": "python3"
  },
  "language_info": {
   "codemirror_mode": {
    "name": "ipython",
    "version": 3
   },
   "file_extension": ".py",
   "mimetype": "text/x-python",
   "name": "python",
   "nbconvert_exporter": "python",
   "pygments_lexer": "ipython3",
   "version": "3.6.1"
  }
 },
 "nbformat": 4,
 "nbformat_minor": 2
}
