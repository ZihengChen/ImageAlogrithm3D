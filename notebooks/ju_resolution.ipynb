{
 "cells": [
  {
   "cell_type": "code",
   "execution_count": 1,
   "metadata": {},
   "outputs": [
    {
     "name": "stdout",
     "output_type": "stream",
     "text": [
      "Welcome to JupyROOT 6.10/00\n"
     ]
    }
   ],
   "source": [
    "from HGCalImageAlgo3D import *\n",
    "from utility_benchmark import *\n",
    "from timeit import default_timer as timer\n",
    "\n",
    "\n",
    "%matplotlib inline\n",
    "plt.style.use('classic')\n",
    "plt.rc(\"figure\",facecolor=\"w\",figsize=(6,4))\n",
    "plt.rc(\"font\",size=10)\n",
    "plt.rc(\"savefig\",dpi=300)\n",
    "\n",
    "DatasetDir  = '/Users/zihengchen/Documents/HGCal/workplace/data/'\n",
    "DatasetFile = 'CMSSW93X_pt35_pu000'\n",
    "#%run ../scripts/utility_getinputhits_genpart.py $DatasetDir $DatasetFile 6 100"
   ]
  },
  {
   "cell_type": "code",
   "execution_count": 2,
   "metadata": {
    "collapsed": true
   },
   "outputs": [],
   "source": [
    "df = pd.read_hdf(DatasetDir+\"input/\"+DatasetFile+\"_rechit.h5\",key=\"table\")"
   ]
  },
  {
   "cell_type": "markdown",
   "metadata": {},
   "source": [
    "# 1. Run clustering"
   ]
  },
  {
   "cell_type": "code",
   "execution_count": 3,
   "metadata": {},
   "outputs": [
    {
     "name": "stderr",
     "output_type": "stream",
     "text": [
      "100%|██████████| 99/99 [00:08<00:00, 11.41it/s]\n"
     ]
    }
   ],
   "source": [
    "imagalgo = ImagingAlgo()\n",
    "dfresultclus = imagalgo.RunImagingAlgo(df,N=100)\n",
    "dfresultclus.to_pickle(\"../data/output/\"+DatasetFile+\"_OutputClus.pkl\")"
   ]
  },
  {
   "cell_type": "markdown",
   "metadata": {
    "collapsed": true
   },
   "source": [
    "# 2. Resolution Plots"
   ]
  },
  {
   "cell_type": "code",
   "execution_count": 4,
   "metadata": {},
   "outputs": [
    {
     "name": "stdout",
     "output_type": "stream",
     "text": [
      "CMSSW93X_pt35_p 0.125,  0.773\n"
     ]
    }
   ],
   "source": [
    "gene,cluse,clusn = getoutputclust(DatasetDir,DatasetFile,N=100,deltarho=5)\n",
    "eff,ave          = effsigma(cluse/gene)\n",
    "print(\"{:15.15}{:6.3f}, {:6.3f}\".format(DatasetFile,eff,ave))"
   ]
  },
  {
   "cell_type": "code",
   "execution_count": 5,
   "metadata": {},
   "outputs": [
    {
     "name": "stdout",
     "output_type": "stream",
     "text": [
      "noPU:  sigma,mean: (0.12460070339787216, 0.77280960125307041)\n",
      "PU200: sigma,mean: (0.28802152171131667, 0.99807504357855237)\n"
     ]
    },
    {
     "data": {
      "image/png": "[encoded data removed]",
      "text/plain": [
       "<matplotlib.figure.Figure at 0x12b98bd68>"
      ]
     },
     "metadata": {},
     "output_type": "display_data"
    }
   ],
   "source": [
    "deltarho = 5\n",
    "energyeff_pu000 = energyeff(DatasetDir,'CMSSW93X_pt35_pu000',N=100,deltarho=5)\n",
    "energyeff_pu200 = energyeff(DatasetDir,'CMSSW93X_pt35_pu200',N=100,deltarho=5)\n",
    "\n",
    "print(\"noPU:  sigma,mean: {}\".format(effsigma(energyeff_pu000)))\n",
    "print(\"PU200: sigma,mean: {}\".format(effsigma(energyeff_pu200)))\n",
    "    \n",
    "plt.hist(energyeff_pu000,bins=np.arange(0-0.025,2.0,0.05),histtype=\"stepfilled\",alpha=0.4,lw=1,label=\"noPU\")\n",
    "plt.hist(energyeff_pu200,bins=np.arange(0-0.025,2.0,0.05),histtype=\"stepfilled\",alpha=0.4,lw=1,label=\"PU200\")\n",
    "plt.axvline(1,lw=2,c=\"k\")\n",
    "plt.grid(True)\n",
    "plt.legend()\n",
    "plt.xlabel(\"ClustEnergy/GenEnergy\")\n",
    "plt.title(\"SinglePi_pt25, Nevent=100\")\n",
    "plt.savefig(\"../plot/pu200.png\")"
   ]
  },
  {
   "cell_type": "code",
   "execution_count": null,
   "metadata": {
    "collapsed": true
   },
   "outputs": [],
   "source": []
  },
  {
   "cell_type": "code",
   "execution_count": null,
   "metadata": {
    "collapsed": true
   },
   "outputs": [],
   "source": []
  },
  {
   "cell_type": "code",
   "execution_count": null,
   "metadata": {
    "collapsed": true
   },
   "outputs": [],
   "source": []
  },
  {
   "cell_type": "code",
   "execution_count": null,
   "metadata": {
    "collapsed": true
   },
   "outputs": [],
   "source": []
  },
  {
   "cell_type": "code",
   "execution_count": null,
   "metadata": {
    "collapsed": true
   },
   "outputs": [],
   "source": []
  },
  {
   "cell_type": "code",
   "execution_count": null,
   "metadata": {
    "collapsed": true
   },
   "outputs": [],
   "source": []
  },
  {
   "cell_type": "code",
   "execution_count": null,
   "metadata": {
    "collapsed": true
   },
   "outputs": [],
   "source": []
  },
  {
   "cell_type": "code",
   "execution_count": null,
   "metadata": {
    "collapsed": true
   },
   "outputs": [],
   "source": []
  },
  {
   "cell_type": "code",
   "execution_count": null,
   "metadata": {
    "collapsed": true
   },
   "outputs": [],
   "source": []
  },
  {
   "cell_type": "code",
   "execution_count": null,
   "metadata": {
    "collapsed": true
   },
   "outputs": [],
   "source": []
  },
  {
   "cell_type": "markdown",
   "metadata": {},
   "source": [
    "# Under Construction"
   ]
  },
  {
   "cell_type": "code",
   "execution_count": null,
   "metadata": {
    "collapsed": true
   },
   "outputs": [],
   "source": [
    "def test(a,b,c,d):\n",
    "    SetImagingAlgo(AFFINITY_Z_  = a, #cm\n",
    "                   KERNAL_R_    = b, \n",
    "                   KERNAL_Z_    = 2*a, \n",
    "                   KERNAL_EXPC_ = 0.5, \n",
    "                   MAXDISTANCE_ = 200, #cm\n",
    "                   DECISION_RHO_KAPPA_ = 10,\n",
    "                   DECISION_NHD_= c,#cm\n",
    "                   CONTINUITY_NHD_ = d#cm\n",
    "                  )\n",
    "    dfresultclus = RunImagingAlgo(df,N=100)\n",
    "    dfresultclus.to_pickle(DatasetDir+\"output/{}/{:02.1f}_{:02.1f}_{:02.1f}_{:02.1f}.pkl\".format(DatasetFile,a,b,c,d))\n",
    "\n",
    "for t in np.arange(0.4,2.4,0.2):\n",
    "    test(t,4.0,4.0,6.0)"
   ]
  },
  {
   "cell_type": "code",
   "execution_count": null,
   "metadata": {
    "collapsed": true
   },
   "outputs": [],
   "source": [
    "import glob  \n",
    "DatasetFile = 'CMSSW93X_pt35_pu000'\n",
    "pickle_list = glob.glob(DatasetDir+\"output/{}/\".format(DatasetFile)+\"/*.pkl\")\n",
    "temp = []\n",
    "for pkl in pickle_list:\n",
    "    energyeff_pu000 = energyeff(DatasetDir,DatasetFile,N=100,deltarho=100, test=pkl)\n",
    "    eff,ave = effsigma(energyeff_pu000)\n",
    "    print(\"{:20}:{:6.3f}GeV, {:6.3f}GeV\".format(pkl[-20:],eff,ave))\n",
    "    temp.append(eff)\n",
    "temp = np.array(temp)"
   ]
  }
 ],
 "metadata": {
  "kernelspec": {
   "display_name": "Python 3",
   "language": "python",
   "name": "python3"
  },
  "language_info": {
   "codemirror_mode": {
    "name": "ipython",
    "version": 3
   },
   "file_extension": ".py",
   "mimetype": "text/x-python",
   "name": "python",
   "nbconvert_exporter": "python",
   "pygments_lexer": "ipython3",
   "version": "3.6.1"
  }
 },
 "nbformat": 4,
 "nbformat_minor": 2
}
