{
 "cells": [
  {
   "cell_type": "code",
   "execution_count": 4,
   "metadata": {},
   "outputs": [],
   "source": [
    "from HGCal_ImageAlgo3D import *\n",
    "from timeit import default_timer as timer\n",
    "\n",
    "%matplotlib inline\n",
    "plt.style.use('classic')\n",
    "plt.rc(\"figure\",facecolor=\"w\",figsize=(6,4))\n",
    "plt.rc(\"font\",size=10)\n",
    "plt.rc(\"savefig\",dpi=300)\n",
    "\n",
    "DatasetDir  = '/home/zchen/Documents/ImageAlogrithm3D/data/'\n",
    "DatasetFile = 'CMSSW93X_pt35_pu200'"
   ]
  },
  {
   "cell_type": "code",
   "execution_count": 5,
   "metadata": {
    "collapsed": true
   },
   "outputs": [],
   "source": [
    "df = pd.read_pickle(DatasetDir+\"input/\"+DatasetFile+\"_rechit.pkl\")"
   ]
  },
  {
   "cell_type": "markdown",
   "metadata": {},
   "source": [
    "# 1. Run clustering"
   ]
  },
  {
   "cell_type": "code",
   "execution_count": 6,
   "metadata": {},
   "outputs": [
    {
     "name": "stderr",
     "output_type": "stream",
     "text": [
      "100%|██████████| 99/99 [04:05<00:00,  2.48s/it]\n"
     ]
    }
   ],
   "source": [
    "imagalgo = ImagingAlgo(AFFINITY_Z     = 1.2,\n",
    "                       KERNAL_R       = 4.0,\n",
    "                       KERNAL_Z       = 2, # layer\n",
    "                       KERNAL_EXPC    = 0.5,\n",
    "                       MAXDISTANCE    = 200,\n",
    "                       DECISION_RHO_KAPPA = 10,\n",
    "                       DECISION_NHD   = 4.0,\n",
    "                       CONTINUITY_NHD = 6.0)\n",
    "dfresultclus = imagalgo.RunImagingAlgo(df,N=100)\n",
    "dfresultclus.to_pickle(\"../data/output/\"+DatasetFile+\"_OutputClus.pkl\")"
   ]
  },
  {
   "cell_type": "markdown",
   "metadata": {
    "collapsed": true
   },
   "source": [
    "# 2. Resolution Plots"
   ]
  },
  {
   "cell_type": "code",
   "execution_count": 11,
   "metadata": {},
   "outputs": [
    {
     "name": "stdout",
     "output_type": "stream",
     "text": [
      "PU000 EnergyEff: 0.7804+/-0.1251\n",
      "PU200 EnergyEff: 0.9885+/-0.2892\n"
     ]
    },
    {
     "data": {
      "image/png": "[encoded data removed]",
      "text/plain": [
       "<matplotlib.figure.Figure at 0x7f483de5c5c0>"
      ]
     },
     "metadata": {},
     "output_type": "display_data"
    }
   ],
   "source": [
    "from utility_benchmark import *\n",
    "bm000 = Benchmark('CMSSW93X_pt35_pu000', N=100)\n",
    "bm200 = Benchmark('CMSSW93X_pt35_pu200', N=100)\n",
    "\n",
    "deltarho = 5\n",
    "energyeff000 = bm000.getEnergyEfficiency(deltarho)\n",
    "energyeff200 = bm200.getEnergyEfficiency(deltarho)\n",
    "    \n",
    "plt.hist(energyeff000,bins=np.arange(0-0.025,2.0,0.05),histtype=\"stepfilled\",alpha=0.4,lw=1,label=\"noPU\")\n",
    "plt.hist(energyeff200,bins=np.arange(0-0.025,2.0,0.05),histtype=\"stepfilled\",alpha=0.4,lw=1,label=\"PU200\")\n",
    "plt.axvline(1,lw=2,c=\"k\")\n",
    "plt.grid(True)\n",
    "plt.legend()\n",
    "plt.xlabel(\"ClustEnergy/GenEnergy\")\n",
    "plt.title(\"SinglePi_pt25, Nevent=100\")\n",
    "plt.savefig(\"../plot/pu200.png\")\n",
    "\n",
    "\n",
    "sigma000,mean000 = bm000.getEffSigma_EnergyEfficiency(deltarho)\n",
    "sigma200,mean200 = bm200.getEffSigma_EnergyEfficiency(deltarho)\n",
    "print(\"PU000 EnergyEff: {:6.4}+/-{:6.4}\".format(mean000,sigma000))\n",
    "print(\"PU200 EnergyEff: {:6.4}+/-{:6.4}\".format(mean200,sigma200))"
   ]
  },
  {
   "cell_type": "code",
   "execution_count": null,
   "metadata": {
    "collapsed": true
   },
   "outputs": [],
   "source": []
  },
  {
   "cell_type": "code",
   "execution_count": null,
   "metadata": {
    "collapsed": true
   },
   "outputs": [],
   "source": []
  },
  {
   "cell_type": "code",
   "execution_count": null,
   "metadata": {
    "collapsed": true
   },
   "outputs": [],
   "source": []
  },
  {
   "cell_type": "code",
   "execution_count": null,
   "metadata": {
    "collapsed": true
   },
   "outputs": [],
   "source": []
  },
  {
   "cell_type": "code",
   "execution_count": null,
   "metadata": {
    "collapsed": true
   },
   "outputs": [],
   "source": []
  },
  {
   "cell_type": "code",
   "execution_count": null,
   "metadata": {
    "collapsed": true
   },
   "outputs": [],
   "source": []
  },
  {
   "cell_type": "code",
   "execution_count": null,
   "metadata": {
    "collapsed": true
   },
   "outputs": [],
   "source": []
  },
  {
   "cell_type": "code",
   "execution_count": null,
   "metadata": {
    "collapsed": true
   },
   "outputs": [],
   "source": []
  },
  {
   "cell_type": "code",
   "execution_count": null,
   "metadata": {
    "collapsed": true
   },
   "outputs": [],
   "source": []
  },
  {
   "cell_type": "code",
   "execution_count": null,
   "metadata": {
    "collapsed": true
   },
   "outputs": [],
   "source": []
  }
 ],
 "metadata": {
  "kernelspec": {
   "display_name": "Python 3",
   "language": "python",
   "name": "python3"
  },
  "language_info": {
   "codemirror_mode": {
    "name": "ipython",
    "version": 3
   },
   "file_extension": ".py",
   "mimetype": "text/x-python",
   "name": "python",
   "nbconvert_exporter": "python",
   "pygments_lexer": "ipython3",
   "version": "3.6.3"
  }
 },
 "nbformat": 4,
 "nbformat_minor": 2
}
