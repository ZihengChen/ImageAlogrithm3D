{
 "cells": [
  {
   "cell_type": "code",
   "execution_count": 2,
   "metadata": {},
   "outputs": [
    {
     "name": "stdout",
     "output_type": "stream",
     "text": [
      "Welcome to JupyROOT 6.10/00\n"
     ]
    }
   ],
   "source": [
    "from HGCal_ImageAlgo3D import *\n",
    "from utility_benchmark import *\n",
    "from timeit import default_timer as timer\n",
    "\n",
    "%matplotlib inline\n",
    "plt.style.use('classic')\n",
    "plt.rc(\"figure\",facecolor=\"w\",figsize=(6,4))\n",
    "plt.rc(\"font\",size=10)\n",
    "plt.rc(\"savefig\",dpi=300)"
   ]
  },
  {
   "cell_type": "code",
   "execution_count": 3,
   "metadata": {
    "collapsed": true
   },
   "outputs": [],
   "source": [
    "DatasetDir  = '/home/zchen/Documents/ImageAlogrithm3D/data/'\n",
    "DatasetFile = 'CMSSW93X_pt35_pu000'\n",
    "df = pd.read_pickle(DatasetDir+\"input/\"+DatasetFile+\"_rechit.pkl\")\n",
    "dfgen = pd.read_pickle(DatasetDir+\"input/\"+DatasetFile+\"_gen.pkl\")"
   ]
  },
  {
   "cell_type": "markdown",
   "metadata": {},
   "source": [
    "# 1. Define Fitness"
   ]
  },
  {
   "cell_type": "code",
   "execution_count": 7,
   "metadata": {
    "collapsed": true
   },
   "outputs": [],
   "source": [
    "def TranslateDNA(DNA):\n",
    "    para_upper = np.array([2,8,1,10])\n",
    "    para_lower = np.array([0,2,0,2])\n",
    "    para = DNA*(para_upper-para_lower)+para_lower\n",
    "    return para\n",
    "\n",
    "def DefineFitness(DNA):\n",
    "    para = TranslateDNA(DNA)\n",
    "    imagalgo = ImagingAlgo(AFFINITY_Z = para[0],\n",
    "                           KERNAL_R   = para[1],\n",
    "                           KERNAL_EXPC= para[2],\n",
    "                          )\n",
    "    \n",
    "    dfresultclus = imagalgo.RunImagingAlgo(df,N=100,verb=False)\n",
    "    bm = Benchmark(DatasetFile, dfresultclus, N=100)\n",
    "    sigma,mean = bm.getEffSigma_EnergyEfficiency(deltarho = para[3])\n",
    "    \n",
    "    fitness = 1/sigma\n",
    "    return fitness"
   ]
  },
  {
   "cell_type": "markdown",
   "metadata": {},
   "source": [
    "# 2. Define GA and Optimize"
   ]
  },
  {
   "cell_type": "code",
   "execution_count": 8,
   "metadata": {
    "collapsed": true
   },
   "outputs": [],
   "source": [
    "from HGCal_GeneticOptimizer import *\n",
    "from IPython.display import clear_output\n",
    "\n",
    "ga = GA(pop_size    = 10,\n",
    "        DNA_size    = 4, \n",
    "        DNA_fitness = DefineFitness,\n",
    "        cross_rate  = 0.8,\n",
    "        mutate_rate = 0.01,\n",
    "        noise_rate  = 0.4,\n",
    "        noise_amp   = 0.02\n",
    "       )"
   ]
  },
  {
   "cell_type": "code",
   "execution_count": null,
   "metadata": {},
   "outputs": [
    {
     "name": "stdout",
     "output_type": "stream",
     "text": [
      "8\n"
     ]
    }
   ],
   "source": [
    "fitness_list = []\n",
    "best_para_list = []\n",
    "for generation in range(50):\n",
    "    print(generation)\n",
    "    clear_output(wait=True)\n",
    "    \n",
    "    ga.evolve()\n",
    "    fitness  = ga.get_pop_fitness()\n",
    "    best_DNA = ga.pop[np.argmax(fitness)]\n",
    "    fitness_list.append(fitness)\n",
    "    best_para_list.append(TranslateDNA(best_DNA))"
   ]
  },
  {
   "cell_type": "code",
   "execution_count": null,
   "metadata": {
    "collapsed": true
   },
   "outputs": [],
   "source": []
  },
  {
   "cell_type": "code",
   "execution_count": null,
   "metadata": {
    "collapsed": true
   },
   "outputs": [],
   "source": []
  },
  {
   "cell_type": "code",
   "execution_count": null,
   "metadata": {
    "collapsed": true
   },
   "outputs": [],
   "source": []
  },
  {
   "cell_type": "code",
   "execution_count": null,
   "metadata": {
    "collapsed": true
   },
   "outputs": [],
   "source": []
  }
 ],
 "metadata": {
  "kernelspec": {
   "display_name": "Python 3",
   "language": "python",
   "name": "python3"
  },
  "language_info": {
   "codemirror_mode": {
    "name": "ipython",
    "version": 3
   },
   "file_extension": ".py",
   "mimetype": "text/x-python",
   "name": "python",
   "nbconvert_exporter": "python",
   "pygments_lexer": "ipython3",
   "version": "3.6.3"
  }
 },
 "nbformat": 4,
 "nbformat_minor": 2
}
