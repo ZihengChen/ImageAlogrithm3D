{
 "cells": [
  {
   "cell_type": "code",
   "execution_count": 2,
   "metadata": {},
   "outputs": [],
   "source": [
    "#from HGCalImageAlgo3D import *\n",
    "from utility_benchmark import *\n",
    "from timeit import default_timer as timer\n",
    "from tqdm import tqdm\n",
    "\n",
    "%matplotlib inline\n",
    "plt.style.use('classic')\n",
    "plt.rc(\"figure\",facecolor=\"w\",figsize=(6,4))\n",
    "plt.rc(\"font\",size=10)\n",
    "plt.rc(\"savefig\",dpi=300)"
   ]
  },
  {
   "cell_type": "code",
   "execution_count": 2,
   "metadata": {},
   "outputs": [
    {
     "ename": "FileNotFoundError",
     "evalue": "File /Users/zihengchen/Documents/HGCal/workplace/data/input/CMSSW93X_pt35_pu000_rechit.h5 does not exist",
     "output_type": "error",
     "traceback": [
      "\u001b[0;31m---------------------------------------------------------------------------\u001b[0m",
      "\u001b[0;31mFileNotFoundError\u001b[0m                         Traceback (most recent call last)",
      "\u001b[0;32m<ipython-input-2-47fe84a5bf5d>\u001b[0m in \u001b[0;36m<module>\u001b[0;34m()\u001b[0m\n\u001b[1;32m      1\u001b[0m \u001b[0mDatasetDir\u001b[0m  \u001b[0;34m=\u001b[0m \u001b[0;34m'/Users/zihengchen/Documents/HGCal/workplace/data/'\u001b[0m\u001b[0;34m\u001b[0m\u001b[0m\n\u001b[1;32m      2\u001b[0m \u001b[0mDatasetFile\u001b[0m \u001b[0;34m=\u001b[0m \u001b[0;34m'CMSSW93X_pt35_pu000'\u001b[0m\u001b[0;34m\u001b[0m\u001b[0m\n\u001b[0;32m----> 3\u001b[0;31m \u001b[0mdf\u001b[0m    \u001b[0;34m=\u001b[0m \u001b[0mpd\u001b[0m\u001b[0;34m.\u001b[0m\u001b[0mread_hdf\u001b[0m\u001b[0;34m(\u001b[0m\u001b[0mDatasetDir\u001b[0m\u001b[0;34m+\u001b[0m\u001b[0;34m\"input/\"\u001b[0m\u001b[0;34m+\u001b[0m\u001b[0mDatasetFile\u001b[0m\u001b[0;34m+\u001b[0m\u001b[0;34m\"_rechit.h5\"\u001b[0m\u001b[0;34m,\u001b[0m\u001b[0mkey\u001b[0m\u001b[0;34m=\u001b[0m\u001b[0;34m\"table\"\u001b[0m\u001b[0;34m)\u001b[0m\u001b[0;34m\u001b[0m\u001b[0m\n\u001b[0m\u001b[1;32m      4\u001b[0m \u001b[0mdfgen\u001b[0m \u001b[0;34m=\u001b[0m \u001b[0mpd\u001b[0m\u001b[0;34m.\u001b[0m\u001b[0mread_pickle\u001b[0m\u001b[0;34m(\u001b[0m\u001b[0mDatasetDir\u001b[0m\u001b[0;34m+\u001b[0m\u001b[0;34m\"input/\"\u001b[0m\u001b[0;34m+\u001b[0m\u001b[0mDatasetFile\u001b[0m\u001b[0;34m+\u001b[0m\u001b[0;34m\"_gen.pkl\"\u001b[0m\u001b[0;34m)\u001b[0m\u001b[0;34m\u001b[0m\u001b[0m\n",
      "\u001b[0;32m/Users/zihengchen/anaconda/lib/python3.6/site-packages/pandas/io/pytables.py\u001b[0m in \u001b[0;36mread_hdf\u001b[0;34m(path_or_buf, key, mode, **kwargs)\u001b[0m\n\u001b[1;32m    345\u001b[0m         \u001b[0;32mif\u001b[0m \u001b[0;32mnot\u001b[0m \u001b[0mexists\u001b[0m\u001b[0;34m:\u001b[0m\u001b[0;34m\u001b[0m\u001b[0m\n\u001b[1;32m    346\u001b[0m             raise compat.FileNotFoundError(\n\u001b[0;32m--> 347\u001b[0;31m                 'File %s does not exist' % path_or_buf)\n\u001b[0m\u001b[1;32m    348\u001b[0m \u001b[0;34m\u001b[0m\u001b[0m\n\u001b[1;32m    349\u001b[0m         \u001b[0mstore\u001b[0m \u001b[0;34m=\u001b[0m \u001b[0mHDFStore\u001b[0m\u001b[0;34m(\u001b[0m\u001b[0mpath_or_buf\u001b[0m\u001b[0;34m,\u001b[0m \u001b[0mmode\u001b[0m\u001b[0;34m=\u001b[0m\u001b[0mmode\u001b[0m\u001b[0;34m,\u001b[0m \u001b[0;34m**\u001b[0m\u001b[0mkwargs\u001b[0m\u001b[0;34m)\u001b[0m\u001b[0;34m\u001b[0m\u001b[0m\n",
      "\u001b[0;31mFileNotFoundError\u001b[0m: File /Users/zihengchen/Documents/HGCal/workplace/data/input/CMSSW93X_pt35_pu000_rechit.h5 does not exist"
     ]
    }
   ],
   "source": [
    "DatasetDir  = '/Users/zihengchen/Documents/HGCal/workplace/data/'\n",
    "DatasetFile = 'CMSSW93X_pt35_pu000'\n",
    "df    = pd.read_hdf(DatasetDir+\"input/\"+DatasetFile+\"_rechit.h5\",key=\"table\")\n",
    "dfgen = pd.read_pickle(DatasetDir+\"input/\"+DatasetFile+\"_gen.pkl\")"
   ]
  },
  {
   "cell_type": "markdown",
   "metadata": {},
   "source": [
    "# 1. Define Fitness"
   ]
  },
  {
   "cell_type": "code",
   "execution_count": 4,
   "metadata": {
    "collapsed": true
   },
   "outputs": [],
   "source": [
    "def TranslateDNA(DNA):\n",
    "    para_upper = np.array([2,8,1])\n",
    "    para_lower = np.array([0,2,0])\n",
    "    para = DNA*(para_upper-para_lower)+para_lower\n",
    "    return para\n",
    "\n",
    "def DefineFitness(DNA):\n",
    "    para = TranslateDNA(DNA)\n",
    "    imagalgo = ImagingAlgo(AFFINITY_Z_ = para[0],\n",
    "                           KERNAL_R_   = para[1],\n",
    "                           KERNAL_EXPC_= para[2]\n",
    "                          )\n",
    "    \n",
    "    dfresultclus = imagalgo.RunImagingAlgo(df,\n",
    "                                           N=100,\n",
    "                                           verb=False)\n",
    "    \n",
    "    gene,cluse,clusn = getoutputclust(DatasetDir,DatasetFile,\n",
    "                                      N=100,deltarho=5,\n",
    "                                      dfresultclus=dfresultclus,\n",
    "                                      dfgen=dfgen)\n",
    "    \n",
    "    eff,ave = effsigma(cluse/gene)\n",
    "    fitness = 1/eff\n",
    "    return fitness"
   ]
  },
  {
   "cell_type": "markdown",
   "metadata": {},
   "source": [
    "# 2. Define GA and Optimize"
   ]
  },
  {
   "cell_type": "code",
   "execution_count": 5,
   "metadata": {
    "collapsed": true
   },
   "outputs": [],
   "source": [
    "import sys\n",
    "sys.path.append('../scripts/')\n",
    "from GeneticAlgo import *\n",
    "\n",
    "ga = GA(pop_size    = 40,\n",
    "        DNA_size    = 3, \n",
    "        DNA_fitness = DefineFitness,\n",
    "        cross_rate  = 0.8,\n",
    "        mutate_rate = 0.01,\n",
    "        noise_rate  = 0.4,\n",
    "        noise_amp   = 0.02\n",
    "       )"
   ]
  },
  {
   "cell_type": "code",
   "execution_count": 6,
   "metadata": {},
   "outputs": [
    {
     "name": "stderr",
     "output_type": "stream",
     "text": [
      "100%|██████████| 50/50 [8:45:10<00:00, 607.75s/it]  \n"
     ]
    }
   ],
   "source": [
    "fitness_list,DNA_list,best_para_list = [],[],[]\n",
    "for generation in tqdm(range(50)):\n",
    "    ga.evolve()\n",
    "    fitness  = ga.get_pop_fitness()\n",
    "    DNA      = ga.pop\n",
    "    best_DNA = ga.pop[np.argmax(fitness)]\n",
    "    \n",
    "    fitness_list.append(fitness)\n",
    "    DNA_list.append(DNA)\n",
    "    best_para_list.append(TranslateDNA(best_DNA))"
   ]
  },
  {
   "cell_type": "code",
   "execution_count": 13,
   "metadata": {},
   "outputs": [
    {
     "ename": "TypeError",
     "evalue": "Mismatch between array dtype ('float64') and format specifier ('%.18e,%.18e,%.18e,%.18e,%.18e,%.18e,%.18e,%.18e,%.18e,%.18e,%.18e,%.18e,%.18e,%.18e,%.18e,%.18e,%.18e,%.18e,%.18e,%.18e,%.18e,%.18e,%.18e,%.18e,%.18e,%.18e,%.18e,%.18e,%.18e,%.18e,%.18e,%.18e,%.18e,%.18e,%.18e,%.18e,%.18e,%.18e,%.18e,%.18e')",
     "output_type": "error",
     "traceback": [
      "\u001b[0;31m---------------------------------------------------------------------------\u001b[0m",
      "\u001b[0;31mTypeError\u001b[0m                                 Traceback (most recent call last)",
      "\u001b[0;32m/Users/zihengchen/anaconda/lib/python3.6/site-packages/numpy/lib/npyio.py\u001b[0m in \u001b[0;36msavetxt\u001b[0;34m(fname, X, fmt, delimiter, newline, header, footer, comments)\u001b[0m\n\u001b[1;32m   1253\u001b[0m                 \u001b[0;32mtry\u001b[0m\u001b[0;34m:\u001b[0m\u001b[0;34m\u001b[0m\u001b[0m\n\u001b[0;32m-> 1254\u001b[0;31m                     \u001b[0mfh\u001b[0m\u001b[0;34m.\u001b[0m\u001b[0mwrite\u001b[0m\u001b[0;34m(\u001b[0m\u001b[0masbytes\u001b[0m\u001b[0;34m(\u001b[0m\u001b[0mformat\u001b[0m \u001b[0;34m%\u001b[0m \u001b[0mtuple\u001b[0m\u001b[0;34m(\u001b[0m\u001b[0mrow\u001b[0m\u001b[0;34m)\u001b[0m \u001b[0;34m+\u001b[0m \u001b[0mnewline\u001b[0m\u001b[0;34m)\u001b[0m\u001b[0;34m)\u001b[0m\u001b[0;34m\u001b[0m\u001b[0m\n\u001b[0m\u001b[1;32m   1255\u001b[0m                 \u001b[0;32mexcept\u001b[0m \u001b[0mTypeError\u001b[0m\u001b[0;34m:\u001b[0m\u001b[0;34m\u001b[0m\u001b[0m\n",
      "\u001b[0;31mTypeError\u001b[0m: only length-1 arrays can be converted to Python scalars",
      "\nDuring handling of the above exception, another exception occurred:\n",
      "\u001b[0;31mTypeError\u001b[0m                                 Traceback (most recent call last)",
      "\u001b[0;32m<ipython-input-13-9b0cbdbe1962>\u001b[0m in \u001b[0;36m<module>\u001b[0;34m()\u001b[0m\n\u001b[1;32m      4\u001b[0m \u001b[0;34m\u001b[0m\u001b[0m\n\u001b[1;32m      5\u001b[0m \u001b[0mnp\u001b[0m\u001b[0;34m.\u001b[0m\u001b[0msavetxt\u001b[0m\u001b[0;34m(\u001b[0m\u001b[0;34m'../data/parameter_GA/fitness.csv'\u001b[0m\u001b[0;34m,\u001b[0m\u001b[0mfitness_list\u001b[0m\u001b[0;34m,\u001b[0m\u001b[0mdelimiter\u001b[0m\u001b[0;34m=\u001b[0m\u001b[0;34m','\u001b[0m\u001b[0;34m)\u001b[0m\u001b[0;34m\u001b[0m\u001b[0m\n\u001b[0;32m----> 6\u001b[0;31m \u001b[0mnp\u001b[0m\u001b[0;34m.\u001b[0m\u001b[0msavetxt\u001b[0m\u001b[0;34m(\u001b[0m\u001b[0;34m'../data/parameter_GA/DNA.csv'\u001b[0m\u001b[0;34m,\u001b[0m\u001b[0mDNA_list\u001b[0m\u001b[0;34m,\u001b[0m\u001b[0mdelimiter\u001b[0m\u001b[0;34m=\u001b[0m\u001b[0;34m','\u001b[0m\u001b[0;34m)\u001b[0m\u001b[0;34m\u001b[0m\u001b[0m\n\u001b[0m\u001b[1;32m      7\u001b[0m \u001b[0;31m#np.savetxt('../data/parameter_GA/best_para.csv',best_para_list,delimiter=',')\u001b[0m\u001b[0;34m\u001b[0m\u001b[0;34m\u001b[0m\u001b[0m\n",
      "\u001b[0;32m/Users/zihengchen/anaconda/lib/python3.6/site-packages/numpy/lib/npyio.py\u001b[0m in \u001b[0;36msavetxt\u001b[0;34m(fname, X, fmt, delimiter, newline, header, footer, comments)\u001b[0m\n\u001b[1;32m   1256\u001b[0m                     raise TypeError(\"Mismatch between array dtype ('%s') and \"\n\u001b[1;32m   1257\u001b[0m                                     \u001b[0;34m\"format specifier ('%s')\"\u001b[0m\u001b[0;34m\u001b[0m\u001b[0m\n\u001b[0;32m-> 1258\u001b[0;31m                                     % (str(X.dtype), format))\n\u001b[0m\u001b[1;32m   1259\u001b[0m         \u001b[0;32mif\u001b[0m \u001b[0mlen\u001b[0m\u001b[0;34m(\u001b[0m\u001b[0mfooter\u001b[0m\u001b[0;34m)\u001b[0m \u001b[0;34m>\u001b[0m \u001b[0;36m0\u001b[0m\u001b[0;34m:\u001b[0m\u001b[0;34m\u001b[0m\u001b[0m\n\u001b[1;32m   1260\u001b[0m             \u001b[0mfooter\u001b[0m \u001b[0;34m=\u001b[0m \u001b[0mfooter\u001b[0m\u001b[0;34m.\u001b[0m\u001b[0mreplace\u001b[0m\u001b[0;34m(\u001b[0m\u001b[0;34m'\\n'\u001b[0m\u001b[0;34m,\u001b[0m \u001b[0;34m'\\n'\u001b[0m \u001b[0;34m+\u001b[0m \u001b[0mcomments\u001b[0m\u001b[0;34m)\u001b[0m\u001b[0;34m\u001b[0m\u001b[0m\n",
      "\u001b[0;31mTypeError\u001b[0m: Mismatch between array dtype ('float64') and format specifier ('%.18e,%.18e,%.18e,%.18e,%.18e,%.18e,%.18e,%.18e,%.18e,%.18e,%.18e,%.18e,%.18e,%.18e,%.18e,%.18e,%.18e,%.18e,%.18e,%.18e,%.18e,%.18e,%.18e,%.18e,%.18e,%.18e,%.18e,%.18e,%.18e,%.18e,%.18e,%.18e,%.18e,%.18e,%.18e,%.18e,%.18e,%.18e,%.18e,%.18e')"
     ]
    }
   ],
   "source": [
    "fitness_list   = np.array(fitness_list)\n",
    "DNA_list       = np.array(DNA_list)\n",
    "best_para_list = np.array(best_para_list)\n",
    "\n",
    "np.savetxt('../data/parameter_GA/fitness.csv',fitness_list,delimiter=',')\n",
    "np.savetxt('../data/parameter_GA/DNA.csv',DNA_list,delimiter=',')\n",
    "#np.savetxt('../data/parameter_GA/best_para.csv',best_para_list,delimiter=',')"
   ]
  },
  {
   "cell_type": "code",
   "execution_count": 1,
   "metadata": {},
   "outputs": [],
   "source": [
    "def TranslateDNA(DNA):\n",
    "    para_upper = np.array([10])\n",
    "    para_lower = np.array([0])\n",
    "    para = DNA*(para_upper-para_lower)+para_lower\n",
    "    return para\n",
    "def func(x):\n",
    "    return -3*np.cos(10*x/np.pi) + x*(10-x) + 4\n",
    "def DefineFitness(DNA):\n",
    "    para = TranslateDNA(DNA)\n",
    "    x = para[0]\n",
    "    fitness = func(x)\n",
    "    return fitness"
   ]
  },
  {
   "cell_type": "code",
   "execution_count": 14,
   "metadata": {},
   "outputs": [],
   "source": [
    "from HGCal_GeneticOptimizer import *\n",
    "from IPython.display import clear_output\n",
    "%matplotlib inline\n",
    "\n",
    "ga = GA(pop_size    = 20,\n",
    "        DNA_size    = 1, \n",
    "        DNA_fitness = DefineFitness,\n",
    "        cross_rate  = 0.8,\n",
    "        mutate_rate = 0.05,\n",
    "        noise_rate  = 0.10,\n",
    "        noise_amp   = 0.05\n",
    "       )"
   ]
  },
  {
   "cell_type": "code",
   "execution_count": 20,
   "metadata": {},
   "outputs": [
    {
     "name": "stdout",
     "output_type": "stream",
     "text": [
      "99\n"
     ]
    }
   ],
   "source": [
    "fitness_list = []\n",
    "para_list = []\n",
    "for generation in range(100):\n",
    "    print(generation)\n",
    "    clear_output(wait=True)\n",
    "    \n",
    "    ga.evolve()\n",
    "    \n",
    "    para_list.append(TranslateDNA(ga.pop))\n",
    "    fitness  = ga.get_pop_fitness()\n",
    "    fitness_list.append(fitness)\n",
    "\n",
    "fitness_list= np.array(fitness_list)\n",
    "para_list = np.array(para_list)"
   ]
  },
  {
   "cell_type": "code",
   "execution_count": 16,
   "metadata": {
    "collapsed": true
   },
   "outputs": [],
   "source": [
    "plt.style.use('classic')\n",
    "plt.style.use('dark_background')\n",
    "#plt.rc(\"figure\",facecolor=\"k\",figsize=(6,4))\n",
    "plt.rc(\"font\",size=12)\n"
   ]
  },
  {
   "cell_type": "code",
   "execution_count": null,
   "metadata": {},
   "outputs": [],
   "source": [
    "for i in range(0,40,2):\n",
    "    x = np.linspace(0,10,100)\n",
    "    fig, axes = plt.subplots(2, 1, sharex=False, \n",
    "                             gridspec_kw={'height_ratios':[2,1]},\n",
    "                             figsize=(5,5))\n",
    "    ax = axes[0]\n",
    "    \n",
    "    ax.plot(x,func(x),'w--',lw=2)\n",
    "    pop = para_list[i]\n",
    "    ax.scatter(pop,func(pop),edgecolor='none',s=100,color='C0',alpha=0.5)\n",
    "    ax.set_ylabel('fitness')\n",
    "    ax.grid(True)\n",
    "    ax.set_xlim(0,10)\n",
    "    ax.set_ylim(5,40)\n",
    "    ax.set_title(\"generation {}\".format(i))\n",
    "    \n",
    "    ax = axes[1]\n",
    "    ax.hist(func(pop),bins=np.arange(0,40,1),histtype=\"stepfilled\",lw=0,label='Fittness')\n",
    "    #ax.legend()\n",
    "    ax.set_ylim(0,20)\n",
    "    ax.grid()\n",
    "    ax.set_xlabel(\"Generation Fitness\")\n",
    "    plt.savefig('../plot/generation_{}.png'.format(i),dpi=200)\n",
    "    plt.close()\n",
    "\n",
    "#plt.savefig('../plot/generation_{}.png'.format(1))"
   ]
  },
  {
   "cell_type": "code",
   "execution_count": 41,
   "metadata": {},
   "outputs": [
    {
     "data": {
      "text/plain": [
       "array([[ 1.,  1.],\n",
       "       [ 1.,  1.],\n",
       "       [ 1.,  1.]])"
      ]
     },
     "execution_count": 41,
     "metadata": {},
     "output_type": "execute_result"
    }
   ],
   "source": [
    "np.ones([3,2])"
   ]
  },
  {
   "cell_type": "code",
   "execution_count": null,
   "metadata": {
    "collapsed": true
   },
   "outputs": [],
   "source": []
  }
 ],
 "metadata": {
  "kernelspec": {
   "display_name": "Python 3",
   "language": "python",
   "name": "python3"
  },
  "language_info": {
   "codemirror_mode": {
    "name": "ipython",
    "version": 3
   },
   "file_extension": ".py",
   "mimetype": "text/x-python",
   "name": "python",
   "nbconvert_exporter": "python",
   "pygments_lexer": "ipython3",
   "version": "3.6.1"
  }
 },
 "nbformat": 4,
 "nbformat_minor": 2
}
