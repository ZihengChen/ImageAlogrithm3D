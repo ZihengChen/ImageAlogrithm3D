{
 "cells": [
  {
   "cell_type": "code",
   "execution_count": 1,
   "metadata": {},
   "outputs": [
    {
     "name": "stdout",
     "output_type": "stream",
     "text": [
      "Welcome to JupyROOT 6.10/00\n"
     ]
    }
   ],
   "source": [
    "from HGCal_ImageAlgo3D import *\n",
    "from utility_benchmark import *\n",
    "from timeit import default_timer as timer\n",
    "\n",
    "%matplotlib inline\n",
    "plt.style.use('classic')\n",
    "plt.rc(\"figure\",facecolor=\"w\",figsize=(6,4))\n",
    "plt.rc(\"font\",size=10)\n",
    "plt.rc(\"savefig\",dpi=300)\n",
    "\n",
    "DatasetDir  = '../data/'\n",
    "DatasetFile = 'CMSSW93X_pt35_pu000'"
   ]
  },
  {
   "cell_type": "code",
   "execution_count": 2,
   "metadata": {},
   "outputs": [],
   "source": [
    "df = pd.read_pickle(DatasetDir+\"input/\"+DatasetFile+\"_rechit.pkl\")\n",
    "dfgen = pd.read_pickle(DatasetDir+\"input/\"+DatasetFile+\"_gen.pkl\")"
   ]
  },
  {
   "cell_type": "markdown",
   "metadata": {},
   "source": [
    "# 1. Define Fitness"
   ]
  },
  {
   "cell_type": "code",
   "execution_count": 3,
   "metadata": {
    "collapsed": true
   },
   "outputs": [],
   "source": [
    "def TranslateDNA(DNA):\n",
    "    para_upper = np.array([2,8,8,5])\n",
    "    para_lower = np.array([0,2,2,2])\n",
    "    para = DNA*(para_upper-para_lower)+para_lower\n",
    "    return para\n",
    "\n",
    "def DefineFitness(DNA):\n",
    "    para = TranslateDNA(DNA)\n",
    "    ia=ImagingAlgo3D(MAXDISTANCE        = 200,  #cm\n",
    "                     LAYER_DISTANCE     = para[0], #1.2,  #cm\n",
    "                     KERNAL_R           = para[1], #4.0,  #cm\n",
    "                     KERNAL_R_NORM      = para[2], #2.0,  #cm\n",
    "                     KERNAL_R_POWER     = 2.0,  #cm\n",
    "                     KERNAL_LAYER       = 2.0,  #number of layer\n",
    "                     DECISION_RHO_KAPPA = 10.0, #fractio of max rho\n",
    "                     DECISION_NHD       = para[3], #4.0,  #cm\n",
    "                     CONTINUITY_NHD     = 6.0   #cm \n",
    "                    )\n",
    "\n",
    "    dfresultclus = ia.RunImagingAlgo(df,Nevent=10,verb=False)\n",
    "    bm = Benchmark(DatasetFile, dfresultclus, N=10)\n",
    "    sigma,mean = bm.getEffSigma_EnergyEfficiency(deltarho = 10)\n",
    "    \n",
    "    fitness = 1/sigma\n",
    "    return fitness"
   ]
  },
  {
   "cell_type": "markdown",
   "metadata": {},
   "source": [
    "# 2. Define GA and Optimize"
   ]
  },
  {
   "cell_type": "code",
   "execution_count": 4,
   "metadata": {
    "collapsed": true
   },
   "outputs": [],
   "source": [
    "from GeneticOptimizer import *\n",
    "from IPython.display import clear_output\n",
    "\n",
    "ga = GA(pop_size    = 100,\n",
    "        DNA_size    = 4, \n",
    "        DNA_fitness = DefineFitness,\n",
    "        cross_rate  = 0.8,\n",
    "        mutate_rate = 0.01,\n",
    "        noise_rate  = 0.4,\n",
    "        noise_amp   = 0.02\n",
    "       )"
   ]
  },
  {
   "cell_type": "code",
   "execution_count": null,
   "metadata": {},
   "outputs": [
    {
     "name": "stdout",
     "output_type": "stream",
     "text": [
      "0\n"
     ]
    }
   ],
   "source": [
    "fitness_list = []\n",
    "best_para_list = []\n",
    "for generation in range(2):\n",
    "    print(generation)\n",
    "    clear_output(wait=True)\n",
    "    \n",
    "    ga.evolve()\n",
    "    fitness  = ga.get_pop_fitness()\n",
    "    best_DNA = ga.pop[np.argmax(fitness)]\n",
    "    fitness_list.append(fitness)\n",
    "    best_para_list.append(TranslateDNA(best_DNA))\n",
    "np.save('../data/fitness_pu000',np.array(fitness_list))\n",
    "np.save('../data/bestpara_pu000',np.array(best_para_list))"
   ]
  },
  {
   "cell_type": "code",
   "execution_count": null,
   "metadata": {},
   "outputs": [],
   "source": [
    "f = np.load('../data/fitness_pu000_100.npy')\n",
    "p = np.load('../data/bestpara_pu000_100.npy')"
   ]
  },
  {
   "cell_type": "code",
   "execution_count": 1,
   "metadata": {
    "collapsed": true
   },
   "outputs": [],
   "source": [
    "sigma = 1/(np.max(f,axis=1))\n",
    "#sigma = sigma.reshape(-1,2)\n",
    "#sigma = np.mean(sigma, axis=1)\n",
    "evolve = np.arange(0,20,1)\n",
    "plt.plot(evolve,sigma,'c',lw=2,label='optimal in a generation')\n",
    "#plt.plot(evolve,sigma_pred,'k--',lw=1)\n",
    "#plt.axhline(0.1165)\n",
    "plt.legend()\n",
    "plt.grid()\n",
    "plt.xlabel('Generation of Evolution',fontsize=14)\n",
    "plt.ylabel(r'$\\sigma^{eff}_\\epsilon$',fontsize=14)\n",
    "#plt.savefig('../plot/ga.png',dpi=300)"
   ]
  }
 ],
 "metadata": {
  "kernelspec": {
   "display_name": "Python 3",
   "language": "python",
   "name": "python3"
  },
  "language_info": {
   "codemirror_mode": {
    "name": "ipython",
    "version": 3
   },
   "file_extension": ".py",
   "mimetype": "text/x-python",
   "name": "python",
   "nbconvert_exporter": "python",
   "pygments_lexer": "ipython3",
   "version": "3.6.1"
  }
 },
 "nbformat": 4,
 "nbformat_minor": 2
}
