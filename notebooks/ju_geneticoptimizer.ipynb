{
 "cells": [
  {
   "cell_type": "code",
   "execution_count": 2,
   "metadata": {},
   "outputs": [
    {
     "name": "stdout",
     "output_type": "stream",
     "text": [
      "Welcome to JupyROOT 6.10/00\n"
     ]
    }
   ],
   "source": [
    "from HGCal_ImageAlgo3D import *\n",
    "from utility_benchmark import *\n",
    "from timeit import default_timer as timer\n",
    "\n",
    "%matplotlib inline\n",
    "plt.style.use('classic')\n",
    "plt.rc(\"figure\",facecolor=\"w\",figsize=(6,4))\n",
    "plt.rc(\"font\",size=10)\n",
    "plt.rc(\"savefig\",dpi=300)\n",
    "\n",
    "DatasetDir  = '/home/zchen/Documents/ImageAlogrithm3D/data/'\n",
    "DatasetFile = 'CMSSW93X_pt35_pu000'\n",
    "#DatasetFile ='CMSSW9304_partGun_PDGid22_x100_E30.0To30.0_NTUP'"
   ]
  },
  {
   "cell_type": "code",
   "execution_count": 3,
   "metadata": {
    "collapsed": true
   },
   "outputs": [],
   "source": [
    "df = pd.read_pickle(DatasetDir+\"input/\"+DatasetFile+\"_rechit.pkl\")\n",
    "dfgen = pd.read_pickle(DatasetDir+\"input/\"+DatasetFile+\"_gen.pkl\")"
   ]
  },
  {
   "cell_type": "markdown",
   "metadata": {},
   "source": [
    "# 1. Define Fitness"
   ]
  },
  {
   "cell_type": "code",
   "execution_count": 8,
   "metadata": {
    "collapsed": true
   },
   "outputs": [],
   "source": [
    "def TranslateDNA(DNA):\n",
    "    para_upper = np.array([2,8,8,5])\n",
    "    para_lower = np.array([0,2,2,2])\n",
    "    para = DNA*(para_upper-para_lower)+para_lower\n",
    "    return para\n",
    "\n",
    "def DefineFitness(DNA):\n",
    "    para = TranslateDNA(DNA)\n",
    "    ia=ImagingAlgo3D(MAXDISTANCE        = 200,  #cm\n",
    "                     LAYER_DISTANCE     = para[0], #1.2,  #cm\n",
    "                     KERNAL_R           = para[1], #4.0,  #cm\n",
    "                     KERNAL_R_NORM      = para[2], #2.0,  #cm\n",
    "                     KERNAL_R_POWER     = 2.0,  #cm\n",
    "                     KERNAL_LAYER       = 2.0,  #number of layer\n",
    "                     DECISION_RHO_KAPPA = 10.0, #fractio of max rho\n",
    "                     DECISION_NHD       = para[3], #4.0,  #cm\n",
    "                     CONTINUITY_NHD     = 6.0   #cm \n",
    "                    )\n",
    "\n",
    "    dfresultclus = ia.RunImagingAlgo(df,Nevent=100,verb=False)\n",
    "    bm = Benchmark(DatasetFile, dfresultclus, N=100)\n",
    "    sigma,mean = bm.getEffSigma_EnergyEfficiency(deltarho = 10)\n",
    "    \n",
    "    fitness = 1/sigma\n",
    "    return fitness"
   ]
  },
  {
   "cell_type": "markdown",
   "metadata": {},
   "source": [
    "# 2. Define GA and Optimize"
   ]
  },
  {
   "cell_type": "code",
   "execution_count": 9,
   "metadata": {},
   "outputs": [],
   "source": [
    "from GeneticOptimizer import *\n",
    "from IPython.display import clear_output\n",
    "\n",
    "ga = GA(pop_size    = 100,\n",
    "        DNA_size    = 4, \n",
    "        DNA_fitness = DefineFitness,\n",
    "        cross_rate  = 0.8,\n",
    "        mutate_rate = 0.01,\n",
    "        noise_rate  = 0.4,\n",
    "        noise_amp   = 0.02\n",
    "       )\n"
   ]
  },
  {
   "cell_type": "code",
   "execution_count": null,
   "metadata": {},
   "outputs": [
    {
     "name": "stdout",
     "output_type": "stream",
     "text": [
      "0\n"
     ]
    }
   ],
   "source": [
    "fitness_list = []\n",
    "best_para_list = []\n",
    "for generation in range(2):\n",
    "    print(generation)\n",
    "    clear_output(wait=True)\n",
    "    \n",
    "    ga.evolve()\n",
    "    fitness  = ga.get_pop_fitness()\n",
    "    best_DNA = ga.pop[np.argmax(fitness)]\n",
    "    fitness_list.append(fitness)\n",
    "    best_para_list.append(TranslateDNA(best_DNA))\n",
    "np.save('../data/fitness_pu000',np.array(fitness_list))\n",
    "np.save('../data/bestpara_pu000',np.array(best_para_list))"
   ]
  },
  {
   "cell_type": "code",
   "execution_count": 7,
   "metadata": {
    "collapsed": true
   },
   "outputs": [],
   "source": [
    "f = np.load('../data/fitness_pu000_100.npy')\n",
    "p = np.load('../data/bestpara_pu000_100.npy')"
   ]
  },
  {
   "cell_type": "code",
   "execution_count": 10,
   "metadata": {},
   "outputs": [
    {
     "data": {
      "text/plain": [
       "Text(0,0.5,'$\\\\sigma^{eff}_\\\\epsilon$')"
      ]
     },
     "execution_count": 10,
     "metadata": {},
     "output_type": "execute_result"
    },
    {
     "data": {
      "image/png": "[encoded data removed]",
      "text/plain": [
       "<matplotlib.figure.Figure at 0x7ff6d152cac8>"
      ]
     },
     "metadata": {},
     "output_type": "display_data"
    }
   ],
   "source": [
    "sigma = 1/(np.max(f,axis=1))\n",
    "#sigma = sigma.reshape(-1,2)\n",
    "#sigma = np.mean(sigma, axis=1)\n",
    "evolve = np.arange(0,20,1)\n",
    "plt.plot(evolve,sigma,'c',lw=2,label='optimal in a generation')\n",
    "#plt.plot(evolve,sigma_pred,'k--',lw=1)\n",
    "#plt.axhline(0.1165)\n",
    "plt.legend()\n",
    "plt.grid()\n",
    "plt.xlabel('Generation of Evolution',fontsize=14)\n",
    "plt.ylabel(r'$\\sigma^{eff}_\\epsilon$',fontsize=14)\n",
    "#plt.savefig('../plot/ga.png',dpi=300)"
   ]
  },
  {
   "cell_type": "code",
   "execution_count": null,
   "metadata": {
    "collapsed": true
   },
   "outputs": [],
   "source": [
    "from sklearn import datasets, linear_model\n",
    "from sklearn.metrics import mean_squared_error, r2_score"
   ]
  },
  {
   "cell_type": "code",
   "execution_count": null,
   "metadata": {
    "collapsed": true
   },
   "outputs": [],
   "source": []
  },
  {
   "cell_type": "code",
   "execution_count": 13,
   "metadata": {
    "collapsed": true
   },
   "outputs": [],
   "source": [
    "regr = linear_model.LinearRegression()\n",
    "regr.fit(evolve[:,None], sigma)\n",
    "sigma_pred = regr.predict(evolve[:,None])"
   ]
  },
  {
   "cell_type": "code",
   "execution_count": 214,
   "metadata": {},
   "outputs": [
    {
     "data": {
      "text/plain": [
       "array([ 0.16684826,  2.26653517,  5.22033166,  2.48411659])"
      ]
     },
     "execution_count": 214,
     "metadata": {},
     "output_type": "execute_result"
    }
   ],
   "source": [
    "p[49]"
   ]
  },
  {
   "cell_type": "code",
   "execution_count": null,
   "metadata": {
    "collapsed": true
   },
   "outputs": [],
   "source": []
  },
  {
   "cell_type": "markdown",
   "metadata": {},
   "source": [
    "# Debug"
   ]
  },
  {
   "cell_type": "code",
   "execution_count": 157,
   "metadata": {
    "collapsed": true
   },
   "outputs": [],
   "source": [
    "def TranslateDNA(DNA):\n",
    "    para_upper = np.array([10])\n",
    "    para_lower = np.array([0])\n",
    "    para = DNA*(para_upper-para_lower)+para_lower\n",
    "    return para\n",
    "def func(x):\n",
    "    return -3*np.cos(10*x/np.pi) + x*(10-x) + 4\n",
    "def DefineFitness(DNA):\n",
    "    para = TranslateDNA(DNA)\n",
    "    x = para[0]\n",
    "    fitness = func(x)\n",
    "    return fitness"
   ]
  },
  {
   "cell_type": "code",
   "execution_count": 163,
   "metadata": {
    "collapsed": true
   },
   "outputs": [],
   "source": [
    "ga = GA(pop_size    = 100,\n",
    "        DNA_size    = 1, \n",
    "        DNA_fitness = DefineFitness,\n",
    "        cross_rate  = 0.8,\n",
    "        mutate_rate = 0.03,\n",
    "        noise_rate  = 0.1,\n",
    "        noise_amp   = 0.02\n",
    "       )"
   ]
  },
  {
   "cell_type": "code",
   "execution_count": 164,
   "metadata": {},
   "outputs": [
    {
     "name": "stdout",
     "output_type": "stream",
     "text": [
      "99\n"
     ]
    }
   ],
   "source": [
    "fitness_list = []\n",
    "para_list = []\n",
    "for generation in range(100):\n",
    "    print(generation)\n",
    "    clear_output(wait=True)\n",
    "    \n",
    "    ga.evolve()\n",
    "    \n",
    "    para_list.append(TranslateDNA(ga.pop))\n",
    "    fitness  = ga.get_pop_fitness()\n",
    "    fitness_list.append(fitness)\n",
    "\n",
    "fitness_list= np.array(fitness_list)\n",
    "para_list = np.array(para_list)"
   ]
  },
  {
   "cell_type": "code",
   "execution_count": 165,
   "metadata": {
    "collapsed": true
   },
   "outputs": [],
   "source": [
    "plt.style.use('dark_background')\n",
    "plt.rc(\"figure\",facecolor=\"k\",figsize=(6,4))"
   ]
  },
  {
   "cell_type": "code",
   "execution_count": 166,
   "metadata": {
    "collapsed": true
   },
   "outputs": [],
   "source": [
    "for i in range(0,100,2):\n",
    "    x = np.linspace(0,10,100)\n",
    "    plt.plot(x,func(x),'gray',lw=2)\n",
    "    pop = para_list[i]\n",
    "    plt.scatter(pop,func(pop),edgecolor='None',color='c',s=100,alpha=0.5)\n",
    "    plt.xlabel('parameter')\n",
    "    plt.ylabel('fitness')\n",
    "    plt.grid(True)\n",
    "    plt.xlim(0,10)\n",
    "    plt.ylim(5,40)\n",
    "    plt.title(\"generation {}\".format(i))\n",
    "    plt.savefig('../plot/generation_{}.png'.format(i))\n",
    "    plt.close()"
   ]
  },
  {
   "cell_type": "code",
   "execution_count": 168,
   "metadata": {},
   "outputs": [
    {
     "data": {
      "image/png": "[encoded data removed]",
      "text/plain": [
       "<matplotlib.figure.Figure at 0x7faca359c550>"
      ]
     },
     "metadata": {},
     "output_type": "display_data"
    }
   ],
   "source": [
    "x = np.linspace(0,10,100)\n",
    "plt.plot(x,func(x),'gray',lw=2)\n",
    "pop = para_list[-1]\n",
    "plt.scatter(pop,func(pop),edgecolor='none',color='c',s=100,alpha=0.5)\n",
    "plt.xlabel('parameter')\n",
    "plt.ylabel('fitness')\n",
    "plt.grid(True)\n",
    "plt.xlim(0,10)\n",
    "plt.ylim(5,40)\n",
    "plt.title(\"generation {}\".format(1))\n",
    "plt.savefig('../plot/generation_{}.png'.format(1))"
   ]
  },
  {
   "cell_type": "code",
   "execution_count": null,
   "metadata": {
    "collapsed": true
   },
   "outputs": [],
   "source": []
  }
 ],
 "metadata": {
  "kernelspec": {
   "display_name": "Python 3",
   "language": "python",
   "name": "python3"
  },
  "language_info": {
   "codemirror_mode": {
    "name": "ipython",
    "version": 3
   },
   "file_extension": ".py",
   "mimetype": "text/x-python",
   "name": "python",
   "nbconvert_exporter": "python",
   "pygments_lexer": "ipython3",
   "version": "3.6.3"
  }
 },
 "nbformat": 4,
 "nbformat_minor": 2
}
