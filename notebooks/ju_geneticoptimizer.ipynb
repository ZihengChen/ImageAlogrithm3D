{
 "cells": [
  {
   "cell_type": "code",
   "execution_count": 1,
   "metadata": {},
   "outputs": [
    {
     "name": "stdout",
     "output_type": "stream",
     "text": [
      "Welcome to JupyROOT 6.10/00\n"
     ]
    }
   ],
   "source": [
    "from HGCalImageAlgo3D import *\n",
    "from utility_benchmark import *\n",
    "from timeit import default_timer as timer\n",
    "\n",
    "%matplotlib inline\n",
    "plt.style.use('classic')\n",
    "plt.rc(\"figure\",facecolor=\"w\",figsize=(6,4))\n",
    "plt.rc(\"font\",size=10)\n",
    "plt.rc(\"savefig\",dpi=300)"
   ]
  },
  {
   "cell_type": "code",
   "execution_count": 2,
   "metadata": {
    "collapsed": true
   },
   "outputs": [],
   "source": [
    "DatasetDir  = '/Users/zihengchen/Documents/HGCal/workplace/data/'\n",
    "DatasetFile = 'CMSSW93X_pt35_pu000'\n",
    "df    = pd.read_hdf(DatasetDir+\"input/\"+DatasetFile+\"_rechit.h5\",key=\"table\")\n",
    "dfgen = pd.read_pickle(DatasetDir+\"input/\"+DatasetFile+\"_gen.pkl\")"
   ]
  },
  {
   "cell_type": "markdown",
   "metadata": {},
   "source": [
    "# 1. Define Fitness"
   ]
  },
  {
   "cell_type": "code",
   "execution_count": 3,
   "metadata": {},
   "outputs": [],
   "source": [
    "def TranslateDNA(DNA):\n",
    "    para_upper = np.array([2,8,1])\n",
    "    para_lower = np.array([0,2,0])\n",
    "    para = DNA*(para_upper-para_lower)+para_lower\n",
    "    return para\n",
    "\n",
    "def DefineFitness(DNA):\n",
    "    para = TranslateDNA(DNA)\n",
    "    imagalgo = ImagingAlgo(AFFINITY_Z_ = para[0],\n",
    "                           KERNAL_R_   = para[1],\n",
    "                           KERNAL_EXPC_= para[2]\n",
    "                          )\n",
    "    \n",
    "    dfresultclus = imagalgo.RunImagingAlgo(df,\n",
    "                                           N=100,\n",
    "                                           verb=False)\n",
    "    \n",
    "    gene,cluse,clusn = getoutputclust(DatasetDir,DatasetFile,\n",
    "                                      N=100,deltarho=5,\n",
    "                                      dfresultclus=dfresultclus,\n",
    "                                      dfgen=dfgen)\n",
    "    \n",
    "    eff,ave = effsigma(cluse/gene)\n",
    "    fitness = 1/eff\n",
    "    return fitness"
   ]
  },
  {
   "cell_type": "markdown",
   "metadata": {},
   "source": [
    "# 2. Define GA and Optimize"
   ]
  },
  {
   "cell_type": "code",
   "execution_count": 4,
   "metadata": {
    "collapsed": true
   },
   "outputs": [],
   "source": [
    "import sys\n",
    "sys.path.append('../scripts/')\n",
    "from GeneticAlgo import *\n",
    "\n",
    "ga = GA(pop_size    = 40,\n",
    "        DNA_size    = 3, \n",
    "        DNA_fitness = DefineFitness,\n",
    "        cross_rate  = 0.8,\n",
    "        mutate_rate = 0.01,\n",
    "        noise_rate  = 0.4,\n",
    "        noise_amp   = 0.02\n",
    "       )"
   ]
  },
  {
   "cell_type": "code",
   "execution_count": null,
   "metadata": {},
   "outputs": [
    {
     "name": "stdout",
     "output_type": "stream",
     "text": [
      "0\n",
      "1\n",
      "2\n",
      "3\n",
      "4\n",
      "5\n",
      "6\n",
      "7\n",
      "8\n",
      "9\n",
      "10\n",
      "11\n",
      "12\n",
      "13\n",
      "14\n",
      "15\n",
      "16\n",
      "17\n",
      "18\n",
      "19\n",
      "20\n",
      "21\n",
      "22\n",
      "23\n"
     ]
    }
   ],
   "source": [
    "fitness_list = []\n",
    "best_para_list = []\n",
    "for generation in range(50):\n",
    "    print(generation)\n",
    "    ga.evolve()\n",
    "    fitness  = ga.get_pop_fitness()\n",
    "    best_DNA = ga.pop[np.argmax(fitness)]\n",
    "    fitness_list.append(fitness)\n",
    "    best_para_list.append(TranslateDNA(best_DNA))"
   ]
  },
  {
   "cell_type": "code",
   "execution_count": null,
   "metadata": {
    "collapsed": true
   },
   "outputs": [],
   "source": []
  }
 ],
 "metadata": {
  "kernelspec": {
   "display_name": "Python 3",
   "language": "python",
   "name": "python3"
  },
  "language_info": {
   "codemirror_mode": {
    "name": "ipython",
    "version": 3
   },
   "file_extension": ".py",
   "mimetype": "text/x-python",
   "name": "python",
   "nbconvert_exporter": "python",
   "pygments_lexer": "ipython3",
   "version": "3.6.1"
  }
 },
 "nbformat": 4,
 "nbformat_minor": 2
}
