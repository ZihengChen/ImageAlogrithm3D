{
 "cells": [
  {
   "cell_type": "code",
   "execution_count": 3,
   "metadata": {},
   "outputs": [],
   "source": [
    "from pylab import *\n",
    "import pandas as pd\n",
    "from timeit import default_timer as timer\n",
    "import sys\n",
    "#sys.path.insert(0,'/Users/zihengchen/Documents/ImageAlgorithm3D/code/')\n",
    "from HGCalImageAlgo3D_opencl_kernel import *\n",
    "\n",
    "lsz,context,prg = openclkernel(DeviceID=0)\n",
    "queue = cl.CommandQueue(context)\n",
    "# For deviceid:\n",
    "# 0 ...... Intel-Core-i7 CPU: 0001 WI/WG\n",
    "# 1 ...... Intel-IrisPro GPU: 0512 WI/WG\n",
    "# 2 ...... NVidia-GT750M GPU: 1024 WI/WG\n",
    "\n",
    "demoevent = \"id==2\"\n",
    "DatasetDir  = '/Users/zihengchen/Documents/HGCal/workplace/data/'\n",
    "DatasetFile = 'CMSSW93X_pt35_pu200'\n",
    "df = pd.read_hdf(DatasetDir+\"input/\"+DatasetFile+\"_rechit.h5\",key=\"table\")\n",
    "dfgen = pd.read_pickle(DatasetDir+\"input/\"+DatasetFile+\"_gen.pkl\")"
   ]
  },
  {
   "cell_type": "code",
   "execution_count": 4,
   "metadata": {
    "collapsed": true
   },
   "outputs": [],
   "source": [
    "AFFINITY_Z = 1,\n",
    "KERNAL_R = 2,#cm\n",
    "KERNAL_Z = 2,#cm\n",
    "KERNAL_EXPC = 0.5, #cm\n",
    "MAXDISTANCE = 200,#cm\n",
    "DECISION_RHO_KAPPA = 10,\n",
    "DECISION_NHD = 4,#cm\n",
    "CONTINUITY_NHD = 6#cm"
   ]
  },
  {
   "cell_type": "markdown",
   "metadata": {},
   "source": [
    "# 0.Load Events"
   ]
  },
  {
   "cell_type": "code",
   "execution_count": 5,
   "metadata": {
    "collapsed": true
   },
   "outputs": [],
   "source": [
    "dfevt = df.query(demoevent)\n",
    "dfevt = dfevt.reset_index(drop=True)\n",
    "x,y,z,e = np.array(dfevt.x),np.array(dfevt.y),AFFINITY_Z*np.array(dfevt.z),np.array(dfevt.energy)"
   ]
  },
  {
   "cell_type": "markdown",
   "metadata": {},
   "source": [
    "# 1. Find rho and NearestHigher"
   ]
  },
  {
   "cell_type": "code",
   "execution_count": 6,
   "metadata": {},
   "outputs": [
    {
     "name": "stdout",
     "output_type": "stream",
     "text": [
      "number of rechits: 162094\n",
      "time: 48025.0 ms\n"
     ]
    }
   ],
   "source": [
    "nrech = np.int32(e.size)\n",
    "LOCALSIZE = int(lsz)\n",
    "GLOBALSIZE= (int(nrech/LOCALSIZE)+1)*LOCALSIZE\n",
    "\n",
    "x = x.astype(np.float32)\n",
    "y = y.astype(np.float32)\n",
    "z = z.astype(np.float32)\n",
    "e = e.astype(np.float32)\n",
    "rho     = np.zeros_like(e)\n",
    "rhorank = np.zeros_like(e).astype(np.int32)\n",
    "nh      = np.zeros_like(e).astype(np.int32)\n",
    "nhd     = np.zeros_like(e)\n",
    "\n",
    "start = timer()\n",
    "mem_flags = cl.mem_flags\n",
    "d_x = cl.Buffer(context, mem_flags.READ_ONLY | mem_flags.COPY_HOST_PTR, hostbuf=x)\n",
    "d_y = cl.Buffer(context, mem_flags.READ_ONLY | mem_flags.COPY_HOST_PTR, hostbuf=y)\n",
    "d_z = cl.Buffer(context, mem_flags.READ_ONLY | mem_flags.COPY_HOST_PTR, hostbuf=z)\n",
    "d_e = cl.Buffer(context, mem_flags.READ_ONLY | mem_flags.COPY_HOST_PTR, hostbuf=e)\n",
    "d_rho     = cl.Buffer(context, mem_flags.READ_WRITE, rho.nbytes)\n",
    "d_rhorank = cl.Buffer(context, mem_flags.READ_WRITE, rhorank.nbytes)\n",
    "d_nh      = cl.Buffer(context, mem_flags.READ_WRITE, nh.nbytes)\n",
    "d_nhd     = cl.Buffer(context, mem_flags.READ_WRITE, nhd.nbytes)\n",
    "\n",
    "prg.rho_opencl(queue, (GLOBALSIZE,), (LOCALSIZE,),\n",
    "               d_rho, \n",
    "               nrech,np.float32(KERNAL_R), np.float32(KERNAL_Z), np.float32(KERNAL_EXPC),\n",
    "               d_x,d_y,d_z,d_e\n",
    "              )\n",
    "\n",
    "prg.rhoranknh_opencl(queue, (GLOBALSIZE,), (LOCALSIZE,),\n",
    "              d_rhorank,d_nh,d_nhd,\n",
    "              nrech,d_x,d_y,d_z,d_rho\n",
    "             )\n",
    "\n",
    "#prg.rhorank_opencl(queue, (GLOBALSIZE,), (LOCALSIZE,),\n",
    "#                   d_rhorank,\n",
    "#                   nrech,d_rho\n",
    "#                   )\n",
    "#prg.nh_opencl(queue, (GLOBALSIZE,), (LOCALSIZE,),\n",
    "#              d_nh,d_nhd,\n",
    "#              nrech,d_x,d_y,d_z,d_rho\n",
    "#             )\n",
    "\n",
    "cl.enqueue_copy(queue, rho, d_rho)\n",
    "cl.enqueue_copy(queue, rhorank, d_rhorank)\n",
    "cl.enqueue_copy(queue, nh, d_nh)\n",
    "cl.enqueue_copy(queue, nhd, d_nhd)\n",
    "\n",
    "end = timer()\n",
    "print(\"number of rechits: {}\".format(nrech))\n",
    "print(\"time: {:3.6} ms\".format(1000*(end - start)))"
   ]
  },
  {
   "cell_type": "markdown",
   "metadata": {
    "collapsed": true
   },
   "source": [
    "# 2. Asign Clusters"
   ]
  },
  {
   "cell_type": "code",
   "execution_count": 7,
   "metadata": {
    "collapsed": true
   },
   "outputs": [],
   "source": [
    "cluster = -1*np.ones(nrech,int)\n",
    "DECISION_RHO = rho.max()/DECISION_RHO_KAPPA\n",
    "\n",
    "# 2.1 convert rhorank to argsortrho 0(N)\n",
    "argsortrho = np.zeros(nrech,int)\n",
    "argsortrho[rhorank] = np.arange(nrech)\n",
    "\n",
    "# 2.2 find seeds\n",
    "selectseed = (rho>DECISION_RHO) & (nhd>DECISION_NHD)\n",
    "seedrho = rho[selectseed]\n",
    "temp = seedrho.argsort()[::-1]\n",
    "seedid = np.empty(len(seedrho), int)\n",
    "seedid[temp] = np.arange(len(seedrho))\n",
    "cluster[selectseed] = seedid\n",
    "dfevt['isseed'] = pd.Series(selectseed.astype(int), index=dfevt.index)\n",
    "\n",
    "# 2.3 asign clusters to seeds\n",
    "for ith in range(nrech):\n",
    "    i = argsortrho[ith]\n",
    "    if  (cluster[i]<0) & (nhd[i]<CONTINUITY_NHD):\n",
    "        cluster[i] = cluster[nh[i]]"
   ]
  },
  {
   "cell_type": "code",
   "execution_count": 8,
   "metadata": {
    "collapsed": true
   },
   "outputs": [],
   "source": [
    "dfevt['rho'] = pd.Series(rho, index=dfevt.index)\n",
    "dfevt['rhorank'] = pd.Series(rhorank, index=dfevt.index)\n",
    "dfevt['nh'] = pd.Series(nh, index=dfevt.index)\n",
    "dfevt['nhd'] = pd.Series(nhd, index=dfevt.index)\n",
    "dfevt['cluster'] = pd.Series(cluster, index=dfevt.index)\n",
    "#dfevt.to_pickle(\"../data/test_\"+DatasetFile+\".pkl\")\n",
    "#dfevt.to_csv(\"../data/test_\"+DatasetFile+\".csv\")"
   ]
  },
  {
   "cell_type": "markdown",
   "metadata": {},
   "source": [
    "# Done! make validation plots"
   ]
  },
  {
   "cell_type": "markdown",
   "metadata": {
    "collapsed": true
   },
   "source": [
    "### Decision Plot"
   ]
  },
  {
   "cell_type": "code",
   "execution_count": 9,
   "metadata": {},
   "outputs": [
    {
     "data": {
      "image/png": "[encoded data removed]",
      "text/plain": [
       "<matplotlib.figure.Figure at 0x123d6e630>"
      ]
     },
     "metadata": {},
     "output_type": "display_data"
    }
   ],
   "source": [
    "%matplotlib inline\n",
    "plt.style.use('classic')\n",
    "plt.rc(\"figure\",facecolor=\"w\",figsize=(6,4))\n",
    "plt.rc(\"font\",size=10)\n",
    "plt.rc(\"savefig\",dpi=300)\n",
    "\n",
    "plt.scatter(dfevt.rho[selectseed],dfevt.nhd[selectseed],marker='s',\n",
    "            s=70,edgecolor=\"k\",color=\"None\",label=\"seed rechits\")\n",
    "plt.scatter(dfevt.rho,dfevt.nhd,marker='.',edgecolor=\"None\",color=\"k\",label=\"rechits\")\n",
    "plt.axvline(DECISION_RHO,color=\"b\",label=\"seed requirement\")\n",
    "plt.axhline(DECISION_NHD,color=\"b\")\n",
    "\n",
    "plt.xlabel(\"Energy Density [GeV]\")\n",
    "plt.ylabel(\"HND [cm]\")\n",
    "plt.legend(loc=\"upper left\",fontsize=12)\n",
    "plt.xlim(-0.3)\n",
    "plt.ylim(-10,220)\n",
    "plt.grid(True)\n",
    "plt.title(\"Decision Plot\",fontsize=12)\n",
    "\n",
    "plt.savefig(\"../../plot/decision_opencl.png\")"
   ]
  },
  {
   "cell_type": "markdown",
   "metadata": {
    "collapsed": true
   },
   "source": [
    "### Plotly EventDisplay"
   ]
  },
  {
   "cell_type": "code",
   "execution_count": 10,
   "metadata": {
    "collapsed": true
   },
   "outputs": [],
   "source": [
    "gen = dfgen.query(demoevent)"
   ]
  },
  {
   "cell_type": "code",
   "execution_count": 11,
   "metadata": {},
   "outputs": [
    {
     "data": {
      "text/html": [
       "<script>requirejs.config({paths: { 'plotly': ['https://cdn.plot.ly/plotly-latest.min']},});if(!window.Plotly) {{require(['plotly'],function(plotly) {window.Plotly=plotly;});}}</script>"
      ],
      "text/vnd.plotly.v1+html": [
       "<script>requirejs.config({paths: { 'plotly': ['https://cdn.plot.ly/plotly-latest.min']},});if(!window.Plotly) {{require(['plotly'],function(plotly) {window.Plotly=plotly;});}}</script>"
      ]
     },
     "metadata": {},
     "output_type": "display_data"
    },
    {
     "name": "stderr",
     "output_type": "stream",
     "text": [
      "/Users/zihengchen/anaconda/lib/python3.6/site-packages/plotly/offline/offline.py:459: UserWarning:\n",
      "\n",
      "Your filename `SinglePi_PU200` didn't end with .html. Adding .html to the end of your file.\n",
      "\n"
     ]
    },
    {
     "data": {
      "text/plain": [
       "'file:///Users/zihengchen/Documents/HGCal/workplace/notebooks/debug/SinglePi_PU200.html'"
      ]
     },
     "execution_count": 11,
     "metadata": {},
     "output_type": "execute_result"
    }
   ],
   "source": [
    "import plotly.plotly as py\n",
    "import plotly.graph_objs as go\n",
    "from plotly.offline import download_plotlyjs, init_notebook_mode, plot, iplot\n",
    "import plotly\n",
    "init_notebook_mode(connected=True)\n",
    "\n",
    "dfevt = dfevt.reset_index(drop=True)\n",
    "\n",
    "tempdf = dfevt.query('cluster>-1')\n",
    "tempx,tempy,tempz,tempe,tempclst = tempdf.ox,tempdf.oy,tempdf.oz,tempdf.energy,tempdf.cluster.max()-tempdf.cluster\n",
    "rechits = go.Scatter3d(x=tempx,y=tempz,z=tempy,\n",
    "                       mode='markers',\n",
    "                       marker=dict(size=5*tempdf.rho**0.5,color=tempclst,colorscale='Jet',cmax=tempclst.max(),cmin=0,opacity=0.5,\n",
    "                                   line = dict(width = 0))) \n",
    "#tempdf = dfevt.query('(cluster==-1)')\n",
    "tempdf = dfevt.query('(cluster==-1) & (energy>0.02)')\n",
    "\n",
    "tempx,tempy,tempz,tempe,tempclst = tempdf.ox,tempdf.oy,tempdf.oz,tempdf.energy,-1\n",
    "noise   = go.Scatter3d(x=tempx,y=tempz,z=tempy,\n",
    "                       mode='markers',\n",
    "                       marker=dict(size=0.8,color=\"black\",opacity=0.3,\n",
    "                                   line = dict(width = 0))) \n",
    "\n",
    "genpart = go.Scatter3d(x=np.array([0,gen.gx]),\n",
    "                       y=np.array([0,gen.gz]),\n",
    "                       z=np.array([0,gen.gy]),\n",
    "                       mode='lines',marker=dict(size=0,color=\"red\",opacity=1)) \n",
    "\n",
    "data = [rechits,noise,genpart]\n",
    "layout = go.Layout(scene=dict(xaxis=dict(title='x (cm)'), yaxis=dict(title='z (cm)'), zaxis=dict(title='y (cm)')),\n",
    "                   margin=dict(l=0,r=0,b=0,t=0))\n",
    "\n",
    "fig = go.Figure(data=data, layout=layout)\n",
    "plot(fig, filename='SinglePi_PU200')"
   ]
  },
  {
   "cell_type": "code",
   "execution_count": null,
   "metadata": {
    "collapsed": true
   },
   "outputs": [],
   "source": []
  },
  {
   "cell_type": "code",
   "execution_count": null,
   "metadata": {
    "collapsed": true
   },
   "outputs": [],
   "source": []
  },
  {
   "cell_type": "code",
   "execution_count": null,
   "metadata": {
    "collapsed": true
   },
   "outputs": [],
   "source": []
  }
 ],
 "metadata": {
  "kernelspec": {
   "display_name": "Python 3",
   "language": "python",
   "name": "python3"
  },
  "language_info": {
   "codemirror_mode": {
    "name": "ipython",
    "version": 3
   },
   "file_extension": ".py",
   "mimetype": "text/x-python",
   "name": "python",
   "nbconvert_exporter": "python",
   "pygments_lexer": "ipython3",
   "version": "3.6.1"
  }
 },
 "nbformat": 4,
 "nbformat_minor": 2
}
