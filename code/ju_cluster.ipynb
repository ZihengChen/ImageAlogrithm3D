{
 "cells": [
  {
   "cell_type": "code",
   "execution_count": 18,
   "metadata": {
    "collapsed": true
   },
   "outputs": [],
   "source": [
    "#%run utility_GetInputHits.py\n",
    "%qtconsole --style monokai"
   ]
  },
  {
   "cell_type": "code",
   "execution_count": 19,
   "metadata": {},
   "outputs": [],
   "source": [
    "from HGCalImageAlgo3D import *\n",
    "from timeit import default_timer as timer\n",
    "\n",
    "%matplotlib inline\n",
    "plt.style.use('classic')\n",
    "plt.rc(\"figure\",facecolor=\"w\",figsize=(6,4))\n",
    "plt.rc(\"font\",size=10)\n",
    "plt.rc(\"savefig\",dpi=300)"
   ]
  },
  {
   "cell_type": "code",
   "execution_count": 20,
   "metadata": {
    "collapsed": true
   },
   "outputs": [],
   "source": [
    "DatasetFile   = 'CMSSW9304_partGun_PDGid22_x1000_E300.0To300.0_NTUP'\n",
    "df  = pd.read_pickle(\"../data/input/\"+DatasetFile+\"_rechit.pkl\") "
   ]
  },
  {
   "cell_type": "markdown",
   "metadata": {},
   "source": [
    "# 1. Run clustering"
   ]
  },
  {
   "cell_type": "code",
   "execution_count": 21,
   "metadata": {},
   "outputs": [
    {
     "name": "stderr",
     "output_type": "stream",
     "text": [
      "100%|██████████| 1000/1000 [00:35<00:00, 32.42it/s]"
     ]
    },
    {
     "name": "stdout",
     "output_type": "stream",
     "text": [
      "35.16083547100061\n"
     ]
    },
    {
     "name": "stderr",
     "output_type": "stream",
     "text": [
      "\n"
     ]
    }
   ],
   "source": [
    "\n",
    "dfresultclus     = pd.DataFrame()\n",
    "\n",
    "time0 = timer()\n",
    "for ievt in tqdm.tqdm(np.unique(df.id)):\n",
    "    if ievt<1000:\n",
    "        #_,dfevtclus   = ImageAlgorithm_cpu (df[df.id==ievt],ievt)\n",
    "        #_,dfevtclus   = ImageAlgorithm_cuda(df[df.id==ievt],ievt)\n",
    "        _,dfevtclus   = ImageAlgorithm_opencl(df[df.id==ievt],ievt,1)\n",
    "        dfresultclus  = dfresultclus.append(dfevtclus, ignore_index=True)\n",
    "time1 = timer()\n",
    "print(time1-time0)\n",
    "\n",
    "dfresultclus.to_pickle(\"../data/output/\"+DatasetFile+\"_OutputClus.pkl\")"
   ]
  },
  {
   "cell_type": "code",
   "execution_count": 6,
   "metadata": {
    "collapsed": true
   },
   "outputs": [],
   "source": [
    "# if want multiprocessing different files on different devices\n",
    "p1 = mp.Process(target=ImageAlgorithm_opencl_job,\n",
    "                args=(\"../data/input/\"+DatasetFile+\"_rechit.pkl\",1))\n",
    "time0 = timer()\n",
    "p1.start()\n",
    "p1.join()\n",
    "time1 = timer()\n",
    "print(time1-time0)"
   ]
  },
  {
   "cell_type": "markdown",
   "metadata": {
    "collapsed": true
   },
   "source": [
    "# 2.Make Some Plots"
   ]
  },
  {
   "cell_type": "code",
   "execution_count": 4,
   "metadata": {
    "collapsed": true
   },
   "outputs": [],
   "source": [
    "dfc = read_root(\"/Users/zihengchen/Documents/HGCal/clustering/data/\"+DatasetFile+\".root\",'ana/hgc')\n",
    "energy3d,count3d = [],[]\n",
    "for i in np.arange(len(dfc)):\n",
    "    slt = dfc.multiclus_z[i]>0\n",
    "    energyi = dfc.multiclus_energy[i][slt]\n",
    "    energy3d.append(np.sum(energyi))\n",
    "    count3d.append(energyi.size)\n",
    "energy3d = np.array(energy3d)\n",
    "count3d = np.array(count3d)"
   ]
  },
  {
   "cell_type": "code",
   "execution_count": 5,
   "metadata": {
    "collapsed": true
   },
   "outputs": [],
   "source": [
    "def effsigma(arr):\n",
    "    ntotal = len(arr)\n",
    "    npeak  = int(0.683*ntotal)\n",
    "    ewidth = int(1e5)\n",
    "\n",
    "    e = sort(arr)[::-1]\n",
    "    for i in range(ntotal-npeak-1):\n",
    "        temp = e[i]-e[i+npeak]\n",
    "        if temp<ewidth:\n",
    "            ewidth = temp \n",
    "    return ewidth/2,e.mean()"
   ]
  },
  {
   "cell_type": "code",
   "execution_count": 12,
   "metadata": {},
   "outputs": [
    {
     "name": "stdout",
     "output_type": "stream",
     "text": [
      "ImageAlgo3D:0.017604371052390586,293.8875833257041\n",
      "cmssw:0.018097635904947916,285.36041259765625\n"
     ]
    },
    {
     "data": {
      "image/png": "[encoded data removed]",
      "text/plain": [
       "<matplotlib.figure.Figure at 0x130d23d30>"
      ]
     },
     "metadata": {},
     "output_type": "display_data"
    }
   ],
   "source": [
    "f = plt.hist(dfresultclus[\"clust_inputenergy\"],color=\"k\",bins=np.arange(150,350,2),alpha=0.2,histtype=\"stepfilled\",lw=0,label=\"Input\")\n",
    "f = plt.hist(dfresultclus[\"clust_includedenergy\"],color=\"b\",bins=np.arange(150,350,2),alpha=1,histtype=\"step\",lw=1,label=\"ImgAlgo3D\")\n",
    "f = plt.hist(energy3d,color=\"r\",bins=np.arange(150,350,2),alpha=1,histtype=\"step\",lw=1,label=\"CMSSW\")\n",
    "\n",
    "plt.grid(True)\n",
    "plt.legend(loc=\"upper left\",fontsize=11)\n",
    "plt.xlabel(\"Total Energy in 3DClusters [GeV]\")\n",
    "\n",
    "\n",
    "eff,ave = effsigma(dfresultclus[\"clust_includedenergy\"])\n",
    "eff = eff/300\n",
    "\n",
    "print(\"ImageAlgo3D:{},{}\".format(eff,ave))\n",
    "\n",
    "eff,ave = effsigma(energy3d)\n",
    "eff = eff/300\n",
    "print(\"cmssw:{},{}\".format(eff,ave))\n",
    "\n",
    "plt.savefig(\"../plot/result_energy.png\")"
   ]
  },
  {
   "cell_type": "code",
   "execution_count": 13,
   "metadata": {},
   "outputs": [
    {
     "data": {
      "image/png": "[encoded data removed]",
      "text/plain": [
       "<matplotlib.figure.Figure at 0x13e7bddd8>"
      ]
     },
     "metadata": {},
     "output_type": "display_data"
    }
   ],
   "source": [
    "f = plt.hist(dfresultclus[\"clust_n\"],bins=np.arange(-.5,30,1),color=\"b\",alpha=1,\n",
    "             histtype=\"step\", lw=1,label=\"ImgAlgo3D\")\n",
    "f = plt.hist(count3d,bins=np.arange(-.5,30,1),color=\"r\",alpha=1,\n",
    "             histtype=\"step\", lw=1,label=\"CMSSW\")\n",
    "plt.grid(True)\n",
    "plt.legend()\n",
    "plt.xlabel(\"Number of 3DClusters in Each Event\")\n",
    "plt.savefig(\"../plot/result_nclus.png\")"
   ]
  },
  {
   "cell_type": "code",
   "execution_count": 9,
   "metadata": {},
   "outputs": [
    {
     "name": "stdout",
     "output_type": "stream",
     "text": [
      "aaaaa\n",
      "bbbbb\n"
     ]
    }
   ],
   "source": [
    "import multiprocessing as mp\n",
    "\n",
    "def job(a,d):\n",
    "    print('aaaaa')\n",
    "def job2(a,d):\n",
    "    print('bbbbb')\n",
    "    \n",
    "p1 = mp.Process(target=job,args=(1,2))\n",
    "p2 = mp.Process(target=job2,args=(1,2))\n",
    "p1.start()\n",
    "p2.start()\n",
    "p1.join()\n",
    "p2.join()"
   ]
  },
  {
   "cell_type": "code",
   "execution_count": null,
   "metadata": {
    "collapsed": true
   },
   "outputs": [],
   "source": []
  }
 ],
 "metadata": {
  "kernelspec": {
   "display_name": "Python 3",
   "language": "python",
   "name": "python3"
  },
  "language_info": {
   "codemirror_mode": {
    "name": "ipython",
    "version": 3
   },
   "file_extension": ".py",
   "mimetype": "text/x-python",
   "name": "python",
   "nbconvert_exporter": "python",
   "pygments_lexer": "ipython3",
   "version": "3.6.1"
  }
 },
 "nbformat": 4,
 "nbformat_minor": 2
}
