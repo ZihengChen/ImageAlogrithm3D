{
 "cells": [
  {
   "cell_type": "code",
   "execution_count": 1,
   "metadata": {
    "collapsed": true
   },
   "outputs": [],
   "source": [
    "from pylab import *\n",
    "import pandas as pd\n",
    "from timeit import default_timer as timer\n",
    "import sys\n",
    "sys.path.insert(0,'/Users/zihengchen/Documents/ImageAlgorithm3D/code/')\n",
    "from HGCalImageAlgo3D_cuda_kernel import *\n",
    "\n",
    "\n",
    "#DatasetFile = 'SinglePi_noPU'\n",
    "DatasetFile = 'SinglePi_PU200'\n",
    "DatasetDir  = \"/Users/zihengchen/Documents/HGCal/clustering/data/\"\n",
    "df    = pd.read_pickle(DatasetDir+\"input/\"+DatasetFile+\"_rechit.pkl\")\n",
    "dfgen = pd.read_pickle(DatasetDir+\"input/\"+DatasetFile+\"_gen.pkl\")"
   ]
  },
  {
   "cell_type": "code",
   "execution_count": 2,
   "metadata": {
    "collapsed": true
   },
   "outputs": [],
   "source": [
    "demoevent = \"id==1\"\n",
    "KERNAL_R = 2,#cm\n",
    "KERNAL_Z = 1,#cm\n",
    "KERNAL_EXPC = 0.5, #cm\n",
    "MAXDISTANCE = 200,#cm\n",
    "DECISION_RHO_KAPPA = 10,\n",
    "DECISION_NHD = 4,#cm\n",
    "AFFINITY_Z = 0.5,\n",
    "CONTINUITY_NHD = 6#cm"
   ]
  },
  {
   "cell_type": "markdown",
   "metadata": {},
   "source": [
    "# 0.Load Events"
   ]
  },
  {
   "cell_type": "code",
   "execution_count": 3,
   "metadata": {
    "collapsed": true
   },
   "outputs": [],
   "source": [
    "dfevt = df.query(demoevent)\n",
    "dfevt = dfevt.reset_index(drop=True)\n",
    "x,y,z,e = np.array(dfevt.x),np.array(dfevt.y),AFFINITY_Z*np.array(dfevt.z),np.array(dfevt.energy)"
   ]
  },
  {
   "cell_type": "markdown",
   "metadata": {},
   "source": [
    "# 1. Find rho and NearestHigher"
   ]
  },
  {
   "cell_type": "code",
   "execution_count": 4,
   "metadata": {},
   "outputs": [
    {
     "name": "stdout",
     "output_type": "stream",
     "text": [
      "number of rechits: 148530\n",
      "time: 9074.89 ms\n"
     ]
    }
   ],
   "source": [
    "start = timer()\n",
    "nrech = np.int32(e.size)\n",
    "\n",
    "x = x.astype(np.float32)\n",
    "y = y.astype(np.float32)\n",
    "z = z.astype(np.float32)\n",
    "e = e.astype(np.float32)\n",
    "rho     = np.zeros_like(e)\n",
    "rhorank = np.zeros_like(e).astype(np.int32)\n",
    "nh      = np.zeros_like(e).astype(np.int32)\n",
    "nhd     = np.zeros_like(e)\n",
    "\n",
    "d_x = cuda.mem_alloc(x.nbytes)\n",
    "d_y = cuda.mem_alloc(y.nbytes)\n",
    "d_z = cuda.mem_alloc(z.nbytes)\n",
    "d_e = cuda.mem_alloc(e.nbytes)\n",
    "d_rho     = cuda.mem_alloc(rho.nbytes)\n",
    "d_rhorank = cuda.mem_alloc(rhorank.nbytes)\n",
    "d_nh      = cuda.mem_alloc(nh.nbytes)\n",
    "d_nhd     = cuda.mem_alloc(nhd.nbytes)\n",
    "\n",
    "start = timer()\n",
    "cuda.memcpy_htod(d_x,x)\n",
    "cuda.memcpy_htod(d_y,y)\n",
    "cuda.memcpy_htod(d_z,z)\n",
    "cuda.memcpy_htod(d_e,e)\n",
    "\n",
    "rho_cuda(d_rho,\n",
    "         nrech, np.float32(KERNAL_R), np.float32(KERNAL_Z), np.float32(KERNAL_EXPC),\n",
    "         d_x,d_y,d_z,d_e,\n",
    "         grid=(int(nrech/1024)+1,1,1),block=(int(1024),1,1))\n",
    "\n",
    "rhoranknh_cuda(d_rhorank,d_nh,d_nhd,\n",
    "               nrech,d_x,d_y,d_z,d_rho,\n",
    "               grid=(int(nrech/1024)+1,1,1),block=(int(1024),1,1))\n",
    "\n",
    "#rhorank_cuda(d_rhorank,nrech,d_rho,\n",
    "#             grid=(int(nrech/1024)+1,1,1),block=(int(1024),1,1))\n",
    "\n",
    "#nh_cuda(d_nh,d_nhd,\n",
    "#        nrech,d_x,d_y,d_z,d_rho,\n",
    "#        grid=(int(nrech/1024)+1,1,1),block=(int(1024),1,1))\n",
    "\n",
    "cuda.memcpy_dtoh(rho,d_rho)\n",
    "cuda.memcpy_dtoh(rhorank,d_rhorank)\n",
    "cuda.memcpy_dtoh(nh,d_nh)\n",
    "cuda.memcpy_dtoh(nhd,d_nhd)\n",
    "end = timer()\n",
    "print(\"number of rechits: {}\".format(nrech))\n",
    "print(\"time: {:3.6} ms\".format(1000*(end - start)))\n",
    "\n",
    "d_x.free()\n",
    "d_y.free()\n",
    "d_z.free()\n",
    "d_e.free()\n",
    "d_rho.free()\n",
    "d_rhorank.free()\n",
    "d_nh.free()\n",
    "d_nhd.free()"
   ]
  },
  {
   "cell_type": "markdown",
   "metadata": {
    "collapsed": true
   },
   "source": [
    "# 2. Asign Clusters"
   ]
  },
  {
   "cell_type": "code",
   "execution_count": 5,
   "metadata": {
    "collapsed": true
   },
   "outputs": [],
   "source": [
    "cluster = -np.ones(nrech,int)\n",
    "DECISION_RHO = rho.max()/DECISION_RHO_KAPPA\n",
    "\n",
    "# 2.1 convert rhorank to argsortrho 0(N)\n",
    "argsortrho = np.zeros(nrech,int)\n",
    "argsortrho[rhorank] = np.arange(nrech)\n",
    "\n",
    "# 2.2 find seeds\n",
    "selectseed = (rho>DECISION_RHO) & (nhd>DECISION_NHD)\n",
    "seedrho = rho[selectseed]\n",
    "temp = seedrho.argsort()[::-1]\n",
    "seedid = np.empty(len(seedrho), int)\n",
    "seedid[temp] = np.arange(len(seedrho))\n",
    "cluster[selectseed] = seedid\n",
    "dfevt['isseed'] = pd.Series(selectseed.astype(int), index=dfevt.index)\n",
    "\n",
    "# 2.3 asign clusters to seeds\n",
    "for ith in range(nrech):\n",
    "    i = argsortrho[ith]\n",
    "    if  (cluster[i]<0) & (nhd[i]<CONTINUITY_NHD):\n",
    "        cluster[i] = cluster[nh[i]]"
   ]
  },
  {
   "cell_type": "code",
   "execution_count": 6,
   "metadata": {
    "collapsed": true
   },
   "outputs": [],
   "source": [
    "dfevt['rho'] = pd.Series(rho, index=dfevt.index)\n",
    "dfevt['rhorank'] = pd.Series(rhorank, index=dfevt.index)\n",
    "dfevt['nh'] = pd.Series(nh, index=dfevt.index)\n",
    "dfevt['nhd'] = pd.Series(nhd, index=dfevt.index)\n",
    "dfevt['cluster'] = pd.Series(cluster, index=dfevt.index)"
   ]
  },
  {
   "cell_type": "markdown",
   "metadata": {},
   "source": [
    "# Make Plots"
   ]
  },
  {
   "cell_type": "code",
   "execution_count": 7,
   "metadata": {
    "collapsed": true
   },
   "outputs": [],
   "source": [
    "%matplotlib inline\n",
    "plt.style.use('classic')\n",
    "plt.rc(\"figure\",facecolor=\"w\",figsize=(6,4))\n",
    "plt.rc(\"font\",size=10)\n",
    "plt.rc(\"savefig\",dpi=300)"
   ]
  },
  {
   "cell_type": "code",
   "execution_count": 8,
   "metadata": {},
   "outputs": [
    {
     "data": {
      "image/png": "[encoded data removed]",
      "text/plain": [
       "<matplotlib.figure.Figure at 0x131b28518>"
      ]
     },
     "metadata": {},
     "output_type": "display_data"
    }
   ],
   "source": [
    "plt.scatter(dfevt.rho[selectseed],dfevt.nhd[selectseed],marker='s',\n",
    "            s=70,edgecolor=\"k\",color=\"None\",label=\"seed rechits\")\n",
    "plt.scatter(dfevt.rho,dfevt.nhd,marker='.',edgecolor=\"None\",color=\"k\",label=\"rechits\")\n",
    "plt.axvline(DECISION_RHO,color=\"b\",label=\"seed requirement\")\n",
    "plt.axhline(DECISION_NHD,color=\"b\")\n",
    "\n",
    "plt.xlabel(\"Energy Density [GeV]\")\n",
    "plt.ylabel(\"HND [cm]\")\n",
    "plt.legend(loc=\"upper left\",fontsize=12)\n",
    "plt.xlim(-0.3)\n",
    "plt.ylim(-10,220)\n",
    "plt.grid(True)\n",
    "plt.title(\"Decision Plot\",fontsize=12)\n",
    "\n",
    "plt.savefig(\"../../plot/decision_cuda.png\")"
   ]
  },
  {
   "cell_type": "code",
   "execution_count": 9,
   "metadata": {
    "collapsed": true
   },
   "outputs": [],
   "source": [
    "gen = dfgen.query(demoevent)"
   ]
  },
  {
   "cell_type": "code",
   "execution_count": 14,
   "metadata": {},
   "outputs": [
    {
     "data": {
      "text/html": [
       "<script>requirejs.config({paths: { 'plotly': ['https://cdn.plot.ly/plotly-latest.min']},});if(!window.Plotly) {{require(['plotly'],function(plotly) {window.Plotly=plotly;});}}</script>"
      ],
      "text/vnd.plotly.v1+html": [
       "<script>requirejs.config({paths: { 'plotly': ['https://cdn.plot.ly/plotly-latest.min']},});if(!window.Plotly) {{require(['plotly'],function(plotly) {window.Plotly=plotly;});}}</script>"
      ]
     },
     "metadata": {},
     "output_type": "display_data"
    },
    {
     "name": "stderr",
     "output_type": "stream",
     "text": [
      "/Users/zihengchen/anaconda/lib/python3.6/site-packages/plotly/plotly/plotly.py:218: UserWarning:\n",
      "\n",
      "Woah there! Look at all those points! Due to browser limitations, the Plotly SVG drawing functions have a hard time graphing more than 500k data points for line charts, or 40k points for other types of charts. Here are some suggestions:\n",
      "(1) Use the `plotly.graph_objs.Scattergl` trace object to generate a WebGl graph.\n",
      "(2) Trying using the image API to return an image instead of a graph URL\n",
      "(3) Use matplotlib\n",
      "(4) See if you can create your visualization with fewer data points\n",
      "\n",
      "If the visualization you're using aggregates points (e.g., box plot, histogram, etc.) you can disregard this warning.\n",
      "\n"
     ]
    },
    {
     "name": "stdout",
     "output_type": "stream",
     "text": [
      "The draw time for this plot will be slow for clients without much RAM.\n"
     ]
    },
    {
     "name": "stderr",
     "output_type": "stream",
     "text": [
      "/Users/zihengchen/anaconda/lib/python3.6/site-packages/plotly/api/v1/clientresp.py:40: UserWarning:\n",
      "\n",
      "Estimated Draw Time Slow\n",
      "\n"
     ]
    },
    {
     "data": {
      "text/plain": [
       "'https://plot.ly/~zihengchen/18'"
      ]
     },
     "execution_count": 14,
     "metadata": {},
     "output_type": "execute_result"
    }
   ],
   "source": [
    "import plotly.plotly as py\n",
    "import plotly.graph_objs as go\n",
    "from plotly.offline import download_plotlyjs, init_notebook_mode, plot, iplot\n",
    "import plotly\n",
    "init_notebook_mode(connected=True)\n",
    "\n",
    "dfevt = dfevt.reset_index(drop=True)\n",
    "\n",
    "tempdf = dfevt.query('cluster>-1')\n",
    "tempx,tempy,tempz,tempe,tempclst = tempdf.ox,tempdf.oy,tempdf.oz,tempdf.energy,tempdf.cluster.max()-tempdf.cluster\n",
    "rechits = go.Scatter3d(x=tempx,y=tempz,z=tempy,\n",
    "                       mode='markers',\n",
    "                       marker=dict(size=5*tempe**0.5,color=tempclst,colorscale='Jet',cmax=tempclst.max(),cmin=0,opacity=0.5,\n",
    "                                   line = dict(width = 0))) \n",
    "#tempdf = dfevt.query('(cluster==-1)')\n",
    "tempdf = dfevt.query('(cluster==-1) & (energy>0.02)')\n",
    "\n",
    "tempx,tempy,tempz,tempe,tempclst = tempdf.ox,tempdf.oy,tempdf.oz,tempdf.energy,-1\n",
    "noise   = go.Scatter3d(x=tempx,y=tempz,z=tempy,\n",
    "                       mode='markers',\n",
    "                       marker=dict(size=0.7,color=\"black\",opacity=0.1,\n",
    "                                   line = dict(width = 0))) \n",
    "\n",
    "genpart = go.Scatter3d(x=np.array([0,gen.gx]),\n",
    "                       y=np.array([0,gen.gz]),\n",
    "                       z=np.array([0,gen.gy]),\n",
    "                       mode='lines',marker=dict(size=0,color=\"red\",opacity=1)) \n",
    "\n",
    "data = [rechits,noise,genpart]\n",
    "layout = go.Layout(scene=dict(xaxis=dict(title='x (cm)'), yaxis=dict(title='z (cm)'), zaxis=dict(title='y (cm)')),\n",
    "                   margin=dict(l=0,r=0,b=0,t=0))\n",
    "\n",
    "fig = go.Figure(data=data, layout=layout)\n",
    "py.plot(fig, filename='SinglePi_PU200')"
   ]
  },
  {
   "cell_type": "code",
   "execution_count": null,
   "metadata": {
    "collapsed": true
   },
   "outputs": [],
   "source": []
  }
 ],
 "metadata": {
  "kernelspec": {
   "display_name": "Python 3",
   "language": "python",
   "name": "python3"
  },
  "language_info": {
   "codemirror_mode": {
    "name": "ipython",
    "version": 3
   },
   "file_extension": ".py",
   "mimetype": "text/x-python",
   "name": "python",
   "nbconvert_exporter": "python",
   "pygments_lexer": "ipython3",
   "version": "3.6.1"
  }
 },
 "nbformat": 4,
 "nbformat_minor": 2
}
