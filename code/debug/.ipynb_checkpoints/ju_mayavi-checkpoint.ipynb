{
 "cells": [
  {
   "cell_type": "code",
   "execution_count": 1,
   "metadata": {
    "collapsed": true,
    "deletable": true,
    "editable": true
   },
   "outputs": [],
   "source": [
    "from pylab import *\n",
    "import pandas as pd\n",
    "\n",
    "%matplotlib inline\n",
    "plt.style.use('classic')\n",
    "plt.rc(\"figure\",facecolor=\"w\",figsize=(6,4))\n",
    "plt.rc(\"font\",size=10)\n",
    "plt.rc(\"savefig\",dpi=300)"
   ]
  },
  {
   "cell_type": "code",
   "execution_count": 2,
   "metadata": {
    "collapsed": false,
    "deletable": true,
    "editable": true
   },
   "outputs": [],
   "source": [
    "#DatasetFile   = 'CMSSW9304_partGun_PDGid22_x100_E30.0To30.0_NTUP'\n",
    "DatasetFile   = 'CMSSW9304_partGun_PDGid22_x1000_E300.0To300.0_NTUP'\n",
    "#DatasetFile   = 'CMSSW9304_partGun_PDGid211_x1000_E300.0To300.0_NTUP'\n",
    "df = pd.read_csv(\"../data/test_\"+DatasetFile+\".csv\")"
   ]
  },
  {
   "cell_type": "code",
   "execution_count": null,
   "metadata": {
    "collapsed": true,
    "deletable": true,
    "editable": true
   },
   "outputs": [],
   "source": []
  },
  {
   "cell_type": "code",
   "execution_count": null,
   "metadata": {
    "collapsed": true,
    "deletable": true,
    "editable": true
   },
   "outputs": [],
   "source": [
    "import mayavi.mlab as mlab\n",
    "mlab.figure(size = (1024,768),bgcolor = (0,0,0), fgcolor = (0.5, 0.5, 0.5))\n",
    "#size = 1-np.exp(- 0.1*df.rho)\n",
    "size = df.rho**0.5\n",
    "size = size/size.max()\n",
    "mlab.points3d(-df.ox,df.oy,df.oz,size,scale_factor=10,vmin=0,vmax=1,colormap=\"viridis\",opacity=1)\n",
    "mlab.show()"
   ]
  },
  {
   "cell_type": "code",
   "execution_count": 12,
   "metadata": {
    "collapsed": true,
    "deletable": true,
    "editable": true
   },
   "outputs": [],
   "source": [
    "import mayavi.mlab as mlab\n",
    "mlab.figure(size = (1024,768),bgcolor = (0,0,0), fgcolor = (0.5, 0.5, 0.5))\n",
    "mlab.points3d(-df.ox,df.oy,df.oz,1+0.01*df.cluster,scale_factor=0.99,vmin=1.0,vmax=1.11,colormap=\"viridis\")\n",
    "mlab.show()"
   ]
  },
  {
   "cell_type": "code",
   "execution_count": null,
   "metadata": {
    "collapsed": true,
    "deletable": true,
    "editable": true
   },
   "outputs": [],
   "source": []
  }
 ],
 "metadata": {
  "kernelspec": {
   "display_name": "Python 2",
   "language": "python",
   "name": "python2"
  },
  "language_info": {
   "codemirror_mode": {
    "name": "ipython",
    "version": 2
   },
   "file_extension": ".py",
   "mimetype": "text/x-python",
   "name": "python",
   "nbconvert_exporter": "python",
   "pygments_lexer": "ipython2",
   "version": "2.7.13"
  }
 },
 "nbformat": 4,
 "nbformat_minor": 2
}
