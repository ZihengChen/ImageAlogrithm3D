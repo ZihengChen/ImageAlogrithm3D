{
 "cells": [
  {
   "cell_type": "code",
   "execution_count": 1,
   "metadata": {
    "collapsed": true
   },
   "outputs": [],
   "source": [
    "from utility_ImageAlgo3D_cuda import *"
   ]
  },
  {
   "cell_type": "code",
   "execution_count": 2,
   "metadata": {
    "collapsed": true
   },
   "outputs": [],
   "source": [
    "from pylab import *\n",
    "import pandas as pd\n",
    "\n",
    "%matplotlib inline\n",
    "plt.style.use('classic')\n",
    "plt.rc(\"figure\",facecolor=\"w\",figsize=(6,4))\n",
    "plt.rc(\"font\",size=10)\n",
    "plt.rc(\"savefig\",dpi=300)"
   ]
  },
  {
   "cell_type": "code",
   "execution_count": 3,
   "metadata": {
    "collapsed": true
   },
   "outputs": [],
   "source": [
    "#DatasetFile   = 'CMSSW9304_partGun_PDGid211_x1000_E300.0To300.0_NTUP'\n",
    "#DatasetFile   = 'CMSSW9304_partGun_PDGid22_x1000_E300.0To300.0_NTUP'\n",
    "DatasetFile   = 'CMSSW9304_partGun_PDGid22_x100_E30.0To30.0_NTUP'\n",
    "df = pd.read_pickle(\"../data/input/\"+DatasetFile+\"_rechit.pkl\") "
   ]
  },
  {
   "cell_type": "code",
   "execution_count": 4,
   "metadata": {
    "collapsed": true
   },
   "outputs": [],
   "source": [
    "#KERNAL_R,KERNAL_Z= 2,2 #cm\n",
    "#MAXDISTANCE = 200 #cm\n",
    "DECISION_RHO_KAPPA = 10\n",
    "DECISION_NHD = 4 #cm\n",
    "AFFINITY_Z = 0.5\n",
    "CONTINUITY_NHD = 6 #cm"
   ]
  },
  {
   "cell_type": "markdown",
   "metadata": {},
   "source": [
    "# 0.Load Events"
   ]
  },
  {
   "cell_type": "code",
   "execution_count": 5,
   "metadata": {
    "collapsed": true
   },
   "outputs": [],
   "source": [
    "#dfevt = df.query(\"id=={}\".format(ievent))\n",
    "dfevt = df.query(\"id<10\")\n",
    "dfevt = dfevt.reset_index(drop=True)\n",
    "x,y,z,e = np.array(dfevt.x),np.array(dfevt.y),AFFINITY_Z*np.array(dfevt.z),np.array(dfevt.energy)"
   ]
  },
  {
   "cell_type": "markdown",
   "metadata": {},
   "source": [
    "# 1. Find rho and NearestHigher"
   ]
  },
  {
   "cell_type": "code",
   "execution_count": 6,
   "metadata": {},
   "outputs": [
    {
     "name": "stdout",
     "output_type": "stream",
     "text": [
      "[0 0 0 ..., 0 0 0]\n",
      "0.12618835300236242\n"
     ]
    }
   ],
   "source": [
    "start = timer()\n",
    "nrech = np.int32(e.size)\n",
    "\n",
    "x = x.astype(np.float32)\n",
    "y = y.astype(np.float32)\n",
    "z = z.astype(np.float32)\n",
    "e = e.astype(np.float32)\n",
    "rho     = np.zeros_like(e)\n",
    "rhorank = np.zeros_like(e).astype(np.int32)\n",
    "nh      = np.zeros_like(e).astype(np.int32)\n",
    "nhd     = np.zeros_like(e)\n",
    "print(rhorank)\n",
    "\n",
    "d_x = cuda.mem_alloc(x.nbytes)\n",
    "d_y = cuda.mem_alloc(y.nbytes)\n",
    "d_z = cuda.mem_alloc(z.nbytes)\n",
    "d_e = cuda.mem_alloc(e.nbytes)\n",
    "d_rho     = cuda.mem_alloc(rho.nbytes)\n",
    "d_rhorank = cuda.mem_alloc(rhorank.nbytes)\n",
    "d_nh      = cuda.mem_alloc(nh.nbytes)\n",
    "d_nhd     = cuda.mem_alloc(nhd.nbytes)\n",
    "start = timer()\n",
    "cuda.memcpy_htod(d_x,x)\n",
    "cuda.memcpy_htod(d_y,y)\n",
    "cuda.memcpy_htod(d_z,z)\n",
    "cuda.memcpy_htod(d_e,e)\n",
    "\n",
    "\n",
    "rho_cuda(d_rho,\n",
    "         nrech,d_x,d_y,d_z,d_e,\n",
    "         grid=(int(nrech/1024)+1,1,1),block=(int(1024),1,1))\n",
    "\n",
    "rhorank_cuda(d_rhorank,nrech,d_rho,\n",
    "             grid=(int(nrech/1024)+1,1,1),block=(int(1024),1,1))\n",
    "\n",
    "nh_cuda(d_nh,d_nhd,\n",
    "        nrech,d_x,d_y,d_z,d_rho,\n",
    "        grid=(int(nrech/1024)+1,1,1),block=(int(1024),1,1))\n",
    "\n",
    "\n",
    "cuda.memcpy_dtoh(rho,d_rho)\n",
    "cuda.memcpy_dtoh(rhorank,d_rhorank)\n",
    "cuda.memcpy_dtoh(nh,d_nh)\n",
    "cuda.memcpy_dtoh(nhd,d_nhd)\n",
    "end = timer()\n",
    "print(end-start)\n",
    "\n",
    "d_x.free()\n",
    "d_y.free()\n",
    "d_z.free()\n",
    "d_e.free()\n",
    "d_rho.free()\n",
    "d_rhorank.free()\n",
    "d_nh.free()\n",
    "d_nhd.free()\n",
    "\n",
    "dfevt['rho'] = pd.Series(rho, index=dfevt.index)\n",
    "dfevt['rhorank'] = pd.Series(rhorank, index=dfevt.index)\n",
    "dfevt['nh'] = pd.Series(nh, index=dfevt.index)\n",
    "dfevt['nhd'] = pd.Series(nhd, index=dfevt.index)"
   ]
  },
  {
   "cell_type": "code",
   "execution_count": 11,
   "metadata": {},
   "outputs": [],
   "source": [
    "a = np.zeros(nrech)\n",
    "a[rhorank] = np.arange(nrech)"
   ]
  },
  {
   "cell_type": "code",
   "execution_count": 12,
   "metadata": {},
   "outputs": [
    {
     "data": {
      "text/plain": [
       "array([ 8162.,  4946.,  8178., ...,     0.,     0.,     0.])"
      ]
     },
     "execution_count": 12,
     "metadata": {},
     "output_type": "execute_result"
    }
   ],
   "source": [
    "a"
   ]
  },
  {
   "cell_type": "code",
   "execution_count": 16,
   "metadata": {},
   "outputs": [
    {
     "data": {
      "text/plain": [
       "array([8162, 4946, 8178, ..., 7430, 3070, 4330])"
      ]
     },
     "execution_count": 16,
     "metadata": {},
     "output_type": "execute_result"
    }
   ],
   "source": [
    "argsortrho"
   ]
  },
  {
   "cell_type": "markdown",
   "metadata": {},
   "source": [
    "# 2. Plot Decision"
   ]
  },
  {
   "cell_type": "code",
   "execution_count": 21,
   "metadata": {},
   "outputs": [
    {
     "data": {
      "image/png": "[encoded data removed]",
      "text/plain": [
       "<matplotlib.figure.Figure at 0x11c19be48>"
      ]
     },
     "metadata": {},
     "output_type": "display_data"
    }
   ],
   "source": [
    "DECISION_RHO = dfevt.rho.max()/DECISION_RHO_KAPPA\n",
    "selectseed = (rho>DECISION_RHO) & (nhd>DECISION_NHD)\n",
    "\n",
    "\n",
    "plt.scatter(dfevt.rho[selectseed],dfevt.nhd[selectseed],marker='s',\n",
    "            s=70,edgecolor=\"k\",color=\"None\",label=\"seed rechits\")\n",
    "plt.scatter(dfevt.rho,dfevt.nhd,marker='.',edgecolor=\"None\",color=\"k\",label=\"rechits\")\n",
    "plt.axvline(DECISION_RHO,color=\"b\",label=\"seed requirement\")\n",
    "plt.axhline(DECISION_NHD,color=\"b\")\n",
    "\n",
    "plt.xlabel(\"Energy Density [GeV]\")\n",
    "plt.ylabel(\"HND [cm]\")\n",
    "plt.legend(loc=\"upper left\",fontsize=12)\n",
    "plt.xlim(-0.3)\n",
    "plt.ylim(-10,220)\n",
    "plt.grid(True)\n",
    "plt.title(\"Decision Plot\",fontsize=12)\n",
    "plt.text(0,110,\"Total Time: \\n -- CPU -- 3.1509 second \\n -- GPU -- 0.1881 second\",fontsize=12)\n",
    "\n",
    "plt.savefig(\"../plot/decision.png\")"
   ]
  },
  {
   "cell_type": "markdown",
   "metadata": {
    "collapsed": true
   },
   "source": [
    "# 3. Asign Clusters"
   ]
  },
  {
   "cell_type": "code",
   "execution_count": 27,
   "metadata": {},
   "outputs": [
    {
     "data": {
      "text/plain": [
       "array([8162, 4946, 8178, ...,    0,    0,    0])"
      ]
     },
     "execution_count": 27,
     "metadata": {},
     "output_type": "execute_result"
    }
   ],
   "source": [
    "cluster = -np.ones(len(dfevt),int)\n",
    "DECISION_RHO = dfevt.rho.max()/DECISION_RHO_KAPPA\n",
    "\n",
    "rho = dfevt.rho\n",
    "nh  = dfevt.nh\n",
    "nhd = dfevt.nhd\n",
    "argsortrho = np.zeros(len(dfevt),int)\n",
    "argsortrho[rhorank] = np.arange(nrech)"
   ]
  },
  {
   "cell_type": "code",
   "execution_count": 28,
   "metadata": {},
   "outputs": [],
   "source": [
    "# find seeds\n",
    "selectseed = (rho>DECISION_RHO) & (nhd>DECISION_NHD)\n",
    "seedrho = rho[selectseed]\n",
    "temp = seedrho.argsort()[::-1]\n",
    "seedid = np.empty(len(seedrho), int)\n",
    "seedid[temp] = np.arange(len(seedrho))\n",
    "cluster[selectseed] = seedid\n",
    "dfevt['isseed'] = pd.Series(selectseed.astype(int), index=dfevt.index)\n",
    "\n",
    "# asign clusters to seeds\n",
    "for ith in range(e.size):\n",
    "    i = argsortrho[ith]\n",
    "    if  (cluster[i]<0) & (nhd[i]<CONTINUITY_NHD):\n",
    "        cluster[i] = cluster[nh[i]]\n",
    "dfevt['cluster'] = pd.Series(cluster, index=dfevt.index)"
   ]
  },
  {
   "cell_type": "code",
   "execution_count": 12,
   "metadata": {
    "collapsed": true
   },
   "outputs": [],
   "source": [
    "dfevt.to_pickle(\"../data/test.pkl\")\n",
    "dfevt.to_csv(\"../data/test.csv\")"
   ]
  },
  {
   "cell_type": "code",
   "execution_count": null,
   "metadata": {
    "collapsed": true
   },
   "outputs": [],
   "source": []
  },
  {
   "cell_type": "code",
   "execution_count": 30,
   "metadata": {},
   "outputs": [
    {
     "data": {
      "text/html": [
       "<iframe id=\"igraph\" scrolling=\"no\" style=\"border:none;\" seamless=\"seamless\" src=\"https://plot.ly/~zihengchen/8.embed\" height=\"525px\" width=\"100%\"></iframe>"
      ],
      "text/plain": [
       "<plotly.tools.PlotlyDisplay object>"
      ]
     },
     "execution_count": 30,
     "metadata": {},
     "output_type": "execute_result"
    }
   ],
   "source": [
    "import plotly.plotly as py\n",
    "import plotly.graph_objs as go\n",
    "from plotly.offline import download_plotlyjs, init_notebook_mode, plot, iplot\n",
    "import plotly\n",
    "\n",
    "dfevt = dfevt.reset_index(drop=True)\n",
    "rechits = go.Scatter3d(x=dfevt.ox,y=dfevt.oz,z=dfevt.oy,\n",
    "                       mode='markers',\n",
    "                       marker=dict(size=10*dfevt.energy**0.7,color=dfevt.cluster,colorscale='Jet',cmax=10,cmin=-2,opacity=0.5,\n",
    "                                   line = dict(width = 0))) \n",
    "data = [rechits]\n",
    "layout = go.Layout(scene=dict(xaxis=dict(title='x (cm)'), yaxis=dict(title='z (cm)'), zaxis=dict(title='y (cm)')),\n",
    "                   margin=dict(l=0,r=0,b=0,t=0))\n",
    "\n",
    "fig = go.Figure(data=data, layout=layout)\n",
    "py.iplot(fig, filename='shapes-line-ref2')"
   ]
  },
  {
   "cell_type": "code",
   "execution_count": null,
   "metadata": {
    "collapsed": true
   },
   "outputs": [],
   "source": []
  },
  {
   "cell_type": "code",
   "execution_count": 16,
   "metadata": {},
   "outputs": [
    {
     "data": {
      "text/plain": [
       "10173"
      ]
     },
     "execution_count": 16,
     "metadata": {},
     "output_type": "execute_result"
    }
   ],
   "source": [
    "len(dfevt)"
   ]
  },
  {
   "cell_type": "code",
   "execution_count": null,
   "metadata": {
    "collapsed": true
   },
   "outputs": [],
   "source": []
  },
  {
   "cell_type": "code",
   "execution_count": null,
   "metadata": {
    "collapsed": true
   },
   "outputs": [],
   "source": []
  },
  {
   "cell_type": "markdown",
   "metadata": {},
   "source": [
    "## 1.2 CPU Version"
   ]
  },
  {
   "cell_type": "code",
   "execution_count": null,
   "metadata": {
    "collapsed": true
   },
   "outputs": [],
   "source": [
    "start = timer()\n",
    "# find rho and rhorank\n",
    "rho = []\n",
    "for i in range(e.size):\n",
    "    dr = ((x-x[i])**2 + (y-y[i])**2)**0.5\n",
    "    dz = np.abs(z-z[i])\n",
    "    local = (dr<KERNAL_R) & (dz<KERNAL_Z)\n",
    "    irho = np.sum(e[local] *np.exp(-dr[local]/(KERNAL_R*0.5)) *np.exp(-dz[local]/(KERNAL_Z*2)))\n",
    "    rho.append(irho)\n",
    "rho = np.array(rho)\n",
    "argsortrho = rho.argsort()[::-1]\n",
    "rhorank = np.empty(len(rho), int)\n",
    "rhorank[argsortrho] = np.arange(len(rho))\n",
    "\n",
    "# find NearstHiger and distance to NearestHigher\n",
    "nh = []\n",
    "nhd= []\n",
    "for i in range(e.size):\n",
    "    irho = rho[i]\n",
    "    irank= rhorank[i]\n",
    "    if irank==0:\n",
    "        nh. append(i)\n",
    "        nhd.append(MAXDISTANCE)\n",
    "    else:\n",
    "        higher = rho>irho\n",
    "        drr  = ((x[higher]-x[i])**2 + (y[higher]-y[i])**2 + (z[higher]-z[i])**2)**0.5\n",
    "        temp = np.arange(len(rho))[higher]\n",
    "        nh. append(temp[np.argmin(drr)])\n",
    "        nhd.append(np.min(drr))\n",
    "nh = np.array(nh)\n",
    "nhd= np.array(nhd)\n",
    "end = timer()\n",
    "print(end-start)\n",
    "\n",
    "dfevt['rho'] = pd.Series(rho, index=dfevt.index)\n",
    "dfevt['rhorank'] = pd.Series(rhorank, index=dfevt.index)\n",
    "dfevt['nh'] = pd.Series(nh, index=dfevt.index)\n",
    "dfevt['nhd'] = pd.Series(nhd, index=dfevt.index)"
   ]
  }
 ],
 "metadata": {
  "kernelspec": {
   "display_name": "Python 3",
   "language": "python",
   "name": "python3"
  },
  "language_info": {
   "codemirror_mode": {
    "name": "ipython",
    "version": 3
   },
   "file_extension": ".py",
   "mimetype": "text/x-python",
   "name": "python",
   "nbconvert_exporter": "python",
   "pygments_lexer": "ipython3",
   "version": "3.6.1"
  }
 },
 "nbformat": 4,
 "nbformat_minor": 2
}
