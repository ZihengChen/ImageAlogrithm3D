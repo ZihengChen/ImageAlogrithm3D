{
 "cells": [
  {
   "cell_type": "code",
   "execution_count": 2,
   "metadata": {
    "collapsed": true
   },
   "outputs": [],
   "source": [
    "#%run utility_getinputhits_genpart.py\n",
    "#%qtconsole --style monokai"
   ]
  },
  {
   "cell_type": "code",
   "execution_count": 1,
   "metadata": {},
   "outputs": [
    {
     "name": "stdout",
     "output_type": "stream",
     "text": [
      "Welcome to JupyROOT 6.10/00\n"
     ]
    }
   ],
   "source": [
    "from HGCalImageAlgo3D import *\n",
    "from timeit import default_timer as timer\n",
    "\n",
    "%matplotlib inline\n",
    "plt.style.use('classic')\n",
    "plt.rc(\"figure\",facecolor=\"w\",figsize=(6,4))\n",
    "plt.rc(\"font\",size=10)\n",
    "plt.rc(\"savefig\",dpi=300)"
   ]
  },
  {
   "cell_type": "code",
   "execution_count": 7,
   "metadata": {},
   "outputs": [],
   "source": [
    "#DatasetFile = 'SinglePi_noPU'\n",
    "DatasetFile = 'SinglePi_PU200'\n",
    "DatasetDir  = \"/Users/zihengchen/Documents/HGCal/clustering/data/\"\n",
    "df    = pd.read_pickle(DatasetDir+\"input/\"+DatasetFile+\"_rechit.pkl\")"
   ]
  },
  {
   "cell_type": "markdown",
   "metadata": {},
   "source": [
    "# 1. Run clustering"
   ]
  },
  {
   "cell_type": "code",
   "execution_count": 8,
   "metadata": {},
   "outputs": [
    {
     "name": "stderr",
     "output_type": "stream",
     "text": [
      "100%|██████████| 100/100 [09:02<00:00,  5.74s/it]\n"
     ]
    }
   ],
   "source": [
    "SetImagingAlgo(KERNAL_R_ = 2,#cm\n",
    "               KERNAL_Z_ = 1,#cm\n",
    "               KERNAL_EXPC_ = 0.5, #cm\n",
    "               MAXDISTANCE_ = 200,#cm\n",
    "               DECISION_RHO_KAPPA_ = 10,\n",
    "               DECISION_NHD_ = 4,#cm\n",
    "               AFFINITY_Z_ = 0.5,\n",
    "               CONTINUITY_NHD_ = 6#cm\n",
    "              )\n",
    "dfresultclus = RunImagingAlgo(df,N=100)\n",
    "dfresultclus.to_pickle(DatasetDir+\"output/\"+DatasetFile+\"_OutputClus.pkl\")"
   ]
  },
  {
   "cell_type": "markdown",
   "metadata": {
    "collapsed": true
   },
   "source": [
    "# 2. Resolution Plots"
   ]
  },
  {
   "cell_type": "code",
   "execution_count": 9,
   "metadata": {},
   "outputs": [
    {
     "name": "stdout",
     "output_type": "stream",
     "text": [
      "noPU:  sigma,mean: (0.21650482399625515, 0.96419042591581361)\n"
     ]
    }
   ],
   "source": [
    "from utility_benchmark import *\n",
    "energyeff_nopu = energyeff(DatasetDir,DatasetFile,deltarho = 5)\n",
    "print(\"noPU:  sigma,mean: {}\".format(effsigma(energyeff_nopu)))"
   ]
  },
  {
   "cell_type": "code",
   "execution_count": 12,
   "metadata": {},
   "outputs": [
    {
     "name": "stdout",
     "output_type": "stream",
     "text": [
      "noPU:  sigma,mean: (0.15807304290559193, 0.84482715840850542)\n",
      "PU200: sigma,mean: (0.21650482399625515, 0.96419042591581361)\n"
     ]
    },
    {
     "data": {
      "image/png": "[encoded data removed]",
      "text/plain": [
       "<matplotlib.figure.Figure at 0x1389a4160>"
      ]
     },
     "metadata": {},
     "output_type": "display_data"
    }
   ],
   "source": [
    "deltarho = 5\n",
    "energyeff_nopu = energyeff(DatasetDir,'SinglePi_noPU',deltarho)\n",
    "energyeff_pu200 = energyeff(DatasetDir,'SinglePi_PU200',deltarho)\n",
    "\n",
    "print(\"noPU:  sigma,mean: {}\".format(effsigma(energyeff_nopu)))\n",
    "print(\"PU200: sigma,mean: {}\".format(effsigma(energyeff_pu200)))\n",
    "    \n",
    "plt.hist(energyeff_nopu,bins=np.arange(0-0.025,1.5,0.05),histtype=\"stepfilled\",alpha=0.4,lw=1,label=\"noPU\")\n",
    "plt.hist(energyeff_pu200,bins=np.arange(0-0.025,1.5,0.05),histtype=\"stepfilled\",alpha=0.4,lw=1,label=\"PU200\")\n",
    "plt.axvline(1,lw=2,c=\"k\")\n",
    "plt.grid(True)\n",
    "plt.legend()\n",
    "plt.xlabel(\"ClustEnergy/GenEnergy\")\n",
    "plt.title(\"SinglePi_pt25, Nevent=100\")\n",
    "plt.savefig(\"../plot/pu200.png\")"
   ]
  }
 ],
 "metadata": {
  "kernelspec": {
   "display_name": "Python 3",
   "language": "python",
   "name": "python3"
  },
  "language_info": {
   "codemirror_mode": {
    "name": "ipython",
    "version": 3
   },
   "file_extension": ".py",
   "mimetype": "text/x-python",
   "name": "python",
   "nbconvert_exporter": "python",
   "pygments_lexer": "ipython3",
   "version": "3.6.1"
  }
 },
 "nbformat": 4,
 "nbformat_minor": 2
}
