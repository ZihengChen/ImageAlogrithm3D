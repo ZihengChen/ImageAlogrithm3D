{
 "cells": [
  {
   "cell_type": "code",
   "execution_count": 18,
   "metadata": {
    "collapsed": true
   },
   "outputs": [],
   "source": [
    "from pylab import *\n",
    "import pandas as pd\n",
    "\n",
    "%matplotlib inline\n",
    "plt.style.use('classic')\n",
    "plt.rc(\"figure\",facecolor=\"w\",figsize=(6,4))\n",
    "plt.rc(\"font\",size=10)\n",
    "plt.rc(\"savefig\",dpi=300)"
   ]
  },
  {
   "cell_type": "code",
   "execution_count": 19,
   "metadata": {},
   "outputs": [],
   "source": [
    "DatasetFile   = 'CMSSW9304_partGun_PDGid211_x1000_E300.0To300.0_NTUP'\n",
    "df = pd.read_pickle(\"../data/\"+DatasetFile+\"_ImgAlgOutput.pkl\" ) "
   ]
  },
  {
   "cell_type": "code",
   "execution_count": 20,
   "metadata": {},
   "outputs": [
    {
     "data": {
      "text/plain": [
       "<matplotlib.collections.PathCollection at 0x117f6f080>"
      ]
     },
     "execution_count": 20,
     "metadata": {},
     "output_type": "execute_result"
    },
    {
     "data": {
      "image/png": "[encoded data removed]",
      "text/plain": [
       "<matplotlib.figure.Figure at 0x1166babe0>"
      ]
     },
     "metadata": {},
     "output_type": "display_data"
    }
   ],
   "source": [
    "    ievent = 6\n",
    "    dfevt = df[df.id==ievent]\n",
    "    dfevt = dfevt.reset_index(drop=True)\n",
    "    plt.scatter(dfevt.oz,dfevt.oy,marker=\".\",\n",
    "                c=dfevt.cluster,edgecolor=\"None\",cmap=\"Set2\")\n",
    "    \n",
    "    #notseed = dfevt.isseed ==0\n",
    "    #notssed = notseed[:,None]\n",
    "    #lx = np.c_[dfevt.ox,dfevt.ox[dfevt.nh]][notseed]\n",
    "    #ly = np.c_[dfevt.oy,dfevt.oy[dfevt.nh]][notseed]\n",
    "    #lz = np.c_[dfevt.oz,dfevt.oz[dfevt.nh]][notseed]\n",
    "    \n",
    "    #for i in range(lz[:,0].size):\n",
    "    #    plt.plot(lz[i,:],ly[i,:],color='k')\n",
    "    "
   ]
  },
  {
   "cell_type": "code",
   "execution_count": null,
   "metadata": {
    "collapsed": true
   },
   "outputs": [],
   "source": [
    "df = pd.read_csv(\"../data/ImageAlgo_event_1_10.csv\")"
   ]
  },
  {
   "cell_type": "code",
   "execution_count": null,
   "metadata": {},
   "outputs": [],
   "source": [
    "import mayavi.mlab as mlab\n",
    "mlab.figure(size = (1024,768),bgcolor = (0,0,0), fgcolor = (0.5, 0.5, 0.5))\n",
    "mlab.points3d(df.ox,df.oy,df.oz,1+0.01*df.cluster,scale_factor=1,vmin=1.0,vmax=1.5,colormap=\"Set2\")\n",
    "mlab.show()"
   ]
  },
  {
   "cell_type": "code",
   "execution_count": 40,
   "metadata": {
    "collapsed": true
   },
   "outputs": [],
   "source": [
    "import mayavi.mlab as mlab\n",
    "mlab.figure(size = (1024,768),bgcolor = (0,0,0), fgcolor = (0.5, 0.5, 0.5))\n",
    "mlab.points3d(df.ox,df.oy,df.oz,df.rho**0.5,scale_factor=0.5,vmin=0,vmax=4,colormap=\"viridis\")\n",
    "mlab.show()"
   ]
  },
  {
   "cell_type": "code",
   "execution_count": null,
   "metadata": {
    "collapsed": true
   },
   "outputs": [],
   "source": []
  },
  {
   "cell_type": "code",
   "execution_count": null,
   "metadata": {
    "collapsed": true
   },
   "outputs": [],
   "source": []
  },
  {
   "cell_type": "code",
   "execution_count": null,
   "metadata": {
    "collapsed": true
   },
   "outputs": [],
   "source": []
  },
  {
   "cell_type": "code",
   "execution_count": null,
   "metadata": {
    "collapsed": true
   },
   "outputs": [],
   "source": []
  },
  {
   "cell_type": "code",
   "execution_count": 23,
   "metadata": {},
   "outputs": [
    {
     "name": "stderr",
     "output_type": "stream",
     "text": [
      "/Users/zihengchen/anaconda/lib/python3.6/site-packages/plotly/offline/offline.py:459: UserWarning:\n",
      "\n",
      "Your filename `shapes-line-ref` didn't end with .html. Adding .html to the end of your file.\n",
      "\n"
     ]
    },
    {
     "data": {
      "text/plain": [
       "'file:///Users/zihengchen/Documents/HGCal/clustering/code/shapes-line-ref.html'"
      ]
     },
     "execution_count": 23,
     "metadata": {},
     "output_type": "execute_result"
    }
   ],
   "source": [
    "import plotly.plotly as py\n",
    "import plotly.graph_objs as go\n",
    "from plotly.offline import download_plotlyjs, init_notebook_mode, plot, iplot\n",
    "import plotly\n",
    "plotly.offline.init_notebook_mode()\n",
    "\n",
    "ievent = 6\n",
    "dfevt = df[df.id==ievent]\n",
    "dfevt = dfevt.reset_index(drop=True)\n",
    "    \n",
    "\n",
    "rechits = go.Scatter3d(x=dfevt.ox,y=dfevt.oz,z=dfevt.oy,\n",
    "                       mode='markers',\n",
    "                       marker=dict(size=5,color=dfevt.cluster,cmax=4,opacity=0.5)) \n",
    "data = [rechits]\n",
    "layout = go.Layout(scene=dict(xaxis=dict(title='x (cm)'), yaxis=dict(title='z (cm)'), zaxis=dict(title='y (cm)')),\n",
    "                   margin=dict(l=0,r=0,b=0,t=0))\n",
    "\n",
    "fig = go.Figure(data=data, layout=layout)\n",
    "plot(fig, filename='shapes-line-ref')"
   ]
  },
  {
   "cell_type": "code",
   "execution_count": null,
   "metadata": {
    "collapsed": true
   },
   "outputs": [],
   "source": []
  }
 ],
 "metadata": {
  "kernelspec": {
   "display_name": "Python 3",
   "language": "python",
   "name": "python3"
  },
  "language_info": {
   "codemirror_mode": {
    "name": "ipython",
    "version": 3
   },
   "file_extension": ".py",
   "mimetype": "text/x-python",
   "name": "python",
   "nbconvert_exporter": "python",
   "pygments_lexer": "ipython3",
   "version": "3.6.1"
  }
 },
 "nbformat": 4,
 "nbformat_minor": 2
}
