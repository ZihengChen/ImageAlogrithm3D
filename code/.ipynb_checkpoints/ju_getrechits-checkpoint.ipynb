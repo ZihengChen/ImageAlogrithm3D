{
 "cells": [
  {
   "cell_type": "code",
   "execution_count": 1,
   "metadata": {},
   "outputs": [
    {
     "name": "stdout",
     "output_type": "stream",
     "text": [
      "Welcome to JupyROOT 6.10/00\n"
     ]
    }
   ],
   "source": [
    "from utility_validation import *\n",
    "from plotgeom import circles\n",
    "%matplotlib inline\n",
    "#%qtconsole --style monokai\n",
    "plt.style.use('classic')\n",
    "plt.rc(\"figure\",facecolor=\"w\",figsize=(6,4))\n",
    "plt.rc(\"font\",size=10)\n",
    "plt.rc(\"savefig\",dpi=300)\n",
    "DatasetFolder = '/Users/zihengchen/Documents/HGCal/clustering/data/'#'/Volumes/MULTIMEDIA/HGCal/Ntuple/'\n",
    "DatasetFile   = 'CMSSW9304_partGun_PDGid211_x1000_E300.0To300.0_NTUP'"
   ]
  },
  {
   "cell_type": "code",
   "execution_count": 2,
   "metadata": {
    "collapsed": true,
    "scrolled": false
   },
   "outputs": [],
   "source": [
    "df = read_root(DatasetFolder+DatasetFile+\".root\",'ana/hgc')\n",
    "collist = [ 'rechit_x', 'rechit_y','rechit_z','rechit_energy','rechit_layer']\n",
    "for col in df.columns:\n",
    "    if not col in collist:\n",
    "        df.drop(col, axis=1, inplace=True) "
   ]
  },
  {
   "cell_type": "code",
   "execution_count": 8,
   "metadata": {},
   "outputs": [],
   "source": [
    "collist = [\"id\",\"layer\",\"energy\", \"ox\",\"oy\",\"oz\",\"x\",\"y\",\"z\"]\n",
    "dfrech  = pd.DataFrame(columns=collist)\n",
    "for index, row in df.iterrows():\n",
    "    if index <100:\n",
    "        #print(index)\n",
    "        #theta = 2 * np.arctan(np.exp(-row['rechit_eta']))\n",
    "        layer,energy = row['rechit_layer'],row['rechit_energy']\n",
    "        ox, oy, oz   = row['rechit_x'],row['rechit_y'],row['rechit_z']\n",
    "        sel = (energy>0.1)&(oz>0)\n",
    "        layer,energy,ox,oy,oz = layer[sel],energy[sel],ox[sel],oy[sel],oz[sel]\n",
    "        \n",
    "        eventid  = index * np.ones(layer.size)\n",
    "        x,y,z    = ox*320/oz, oy*320/oz, layer\n",
    "        \n",
    "        # scale z for smaller pitch bias\n",
    "        k0,k1,k2 = 0.2,1, 1\n",
    "        z[layer>28] = 28+k1*(z[layer>28]-28)\n",
    "        z[layer>40] = (28+k1*(40-28)) + k2*(z[layer>40]-(28+k1*(40-28)))\n",
    "        z = k0*z\n",
    "\n",
    "        \n",
    "        temp = np.c_[eventid,layer,energy,ox,oy,oz,x,y,z]\n",
    "        temp = pd.DataFrame(temp,columns=collist)\n",
    "        dfrech = dfrech.append(temp,ignore_index=True)\n",
    "dfrech.to_pickle(\"../data/\"+DatasetFile+\".pkl\")"
   ]
  },
  {
   "cell_type": "code",
   "execution_count": 2,
   "metadata": {
    "collapsed": true
   },
   "outputs": [],
   "source": [
    "df = pd.read_pickle(\"../data/\"+DatasetFile+\".pkl\")     "
   ]
  },
  {
   "cell_type": "code",
   "execution_count": 7,
   "metadata": {
    "collapsed": true
   },
   "outputs": [],
   "source": [
    "dfrech.to_csv(\"../data/\"+DatasetFile+\".csv\")"
   ]
  },
  {
   "cell_type": "code",
   "execution_count": null,
   "metadata": {
    "collapsed": true
   },
   "outputs": [],
   "source": []
  },
  {
   "cell_type": "code",
   "execution_count": null,
   "metadata": {
    "collapsed": true
   },
   "outputs": [],
   "source": []
  }
 ],
 "metadata": {
  "kernelspec": {
   "display_name": "Python 3",
   "language": "python",
   "name": "python3"
  },
  "language_info": {
   "codemirror_mode": {
    "name": "ipython",
    "version": 3
   },
   "file_extension": ".py",
   "mimetype": "text/x-python",
   "name": "python",
   "nbconvert_exporter": "python",
   "pygments_lexer": "ipython3",
   "version": "3.6.1"
  }
 },
 "nbformat": 4,
 "nbformat_minor": 1
}
