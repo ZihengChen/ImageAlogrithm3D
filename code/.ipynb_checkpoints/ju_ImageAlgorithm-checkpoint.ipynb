{
 "cells": [
  {
   "cell_type": "code",
   "execution_count": 1,
   "metadata": {},
   "outputs": [
    {
     "name": "stdout",
     "output_type": "stream",
     "text": [
      "Welcome to JupyROOT 6.10/00\n"
     ]
    }
   ],
   "source": [
    "%run utility_getrechits.py"
   ]
  },
  {
   "cell_type": "code",
   "execution_count": 2,
   "metadata": {
    "collapsed": true
   },
   "outputs": [],
   "source": [
    "from pylab import *\n",
    "import pandas as pd\n",
    "\n",
    "%matplotlib inline\n",
    "plt.style.use('classic')\n",
    "plt.rc(\"figure\",facecolor=\"w\",figsize=(6,4))\n",
    "plt.rc(\"font\",size=10)\n",
    "plt.rc(\"savefig\",dpi=300)"
   ]
  },
  {
   "cell_type": "code",
   "execution_count": 3,
   "metadata": {
    "collapsed": true
   },
   "outputs": [],
   "source": [
    "#DatasetFile   = 'CMSSW9304_partGun_PDGid211_x1000_E300.0To300.0_NTUP'\n",
    "DatasetFile   = 'CMSSW9304_partGun_PDGid22_x100_E30.0To30.0_NTUP'\n",
    "df = pd.read_pickle(\"../data/\"+DatasetFile+\"_rechit.pkl\") "
   ]
  },
  {
   "cell_type": "code",
   "execution_count": 4,
   "metadata": {
    "collapsed": true
   },
   "outputs": [],
   "source": [
    "KERNAL_R,KERNAL_Z= 2,2 #cm\n",
    "MAXDISTANCE = 200 #cm\n",
    "DECISION_RHO_KAPPA = 9\n",
    "DECISION_NHD = 2 #cm\n",
    "AFFINITY_Z = 0.5\n",
    "CONTINUITY_NHD = 4 #cm"
   ]
  },
  {
   "cell_type": "markdown",
   "metadata": {},
   "source": [
    "# 0.Load Events"
   ]
  },
  {
   "cell_type": "code",
   "execution_count": 5,
   "metadata": {
    "collapsed": true
   },
   "outputs": [],
   "source": [
    "dfevt = df.query(\"id==5\")\n",
    "dfevt = dfevt.reset_index(drop=True)\n",
    "x,y,z,energy = np.array(dfevt.x),np.array(dfevt.y),np.array(dfevt.z),np.array(dfevt.energy)\n",
    "z =  AFFINITY_Z*z"
   ]
  },
  {
   "cell_type": "markdown",
   "metadata": {},
   "source": [
    "# 1. Find rho and NearestHigher"
   ]
  },
  {
   "cell_type": "code",
   "execution_count": 6,
   "metadata": {
    "collapsed": true
   },
   "outputs": [],
   "source": [
    "# find rho and rhorank\n",
    "rho = []\n",
    "for i in range(energy.size):\n",
    "    dr = ((x-x[i])**2 + (y-y[i])**2)**0.5\n",
    "    dz = np.abs(z-z[i])\n",
    "    local = (dr<KERNAL_R) & (dz<KERNAL_Z)\n",
    "    irho = np.sum(energy[local] *np.exp(-dr[local]/(KERNAL_R*0.5)) *np.exp(-dz[local]/(KERNAL_Z*2)))\n",
    "    rho.append(irho)\n",
    "rho = np.array(rho)\n",
    "argsortrho = rho.argsort()[::-1]\n",
    "rhorank = np.empty(len(rho), int)\n",
    "rhorank[argsortrho] = np.arange(len(rho))"
   ]
  },
  {
   "cell_type": "code",
   "execution_count": 7,
   "metadata": {
    "collapsed": true
   },
   "outputs": [],
   "source": [
    "# find NearstHiger and distance to NearestHigher\n",
    "nh = []\n",
    "nhd= []\n",
    "for i in range(energy.size):\n",
    "    irho = rho[i]\n",
    "    irank= rhorank[i]\n",
    "    if irank==0:\n",
    "        nh. append(i)\n",
    "        nhd.append(MAXDISTANCE)\n",
    "    else:\n",
    "        higher = rho>irho\n",
    "        drr  = ((x[higher]-x[i])**2 + (y[higher]-y[i])**2 + (z[higher]-z[i])**2)**0.5\n",
    "        temp = np.arange(len(rho))[higher]\n",
    "        nh. append(temp[np.argmin(drr)])\n",
    "        nhd.append(np.min(drr))\n",
    "nh = np.array(nh)\n",
    "nhd= np.array(nhd)"
   ]
  },
  {
   "cell_type": "code",
   "execution_count": 8,
   "metadata": {
    "collapsed": true
   },
   "outputs": [],
   "source": [
    "dfevt['rho'] = pd.Series(rho, index=dfevt.index)\n",
    "dfevt['rhorank'] = pd.Series(rhorank, index=dfevt.index)\n",
    "dfevt['nh'] = pd.Series(nh, index=dfevt.index)\n",
    "dfevt['nhd'] = pd.Series(nhd, index=dfevt.index)"
   ]
  },
  {
   "cell_type": "markdown",
   "metadata": {},
   "source": [
    "# 2. Plot Decision"
   ]
  },
  {
   "cell_type": "code",
   "execution_count": 9,
   "metadata": {},
   "outputs": [
    {
     "data": {
      "image/png": "[encoded data removed]",
      "text/plain": [
       "<matplotlib.figure.Figure at 0x10935c748>"
      ]
     },
     "metadata": {},
     "output_type": "display_data"
    }
   ],
   "source": [
    "DECISION_RHO = rho.max()/DECISION_RHO_KAPPA\n",
    "plt.scatter(rho,nhd,marker='.',edgecolor=\"None\",color=\"b\")\n",
    "plt.axvline(DECISION_RHO,color=\"k\")\n",
    "plt.axhline(DECISION_NHD,color=\"k\")\n",
    "plt.savefig(\"../plot/decision.png\")"
   ]
  },
  {
   "cell_type": "markdown",
   "metadata": {
    "collapsed": true
   },
   "source": [
    "# 3. Asign Clusters"
   ]
  },
  {
   "cell_type": "code",
   "execution_count": 10,
   "metadata": {
    "collapsed": true
   },
   "outputs": [],
   "source": [
    "cluster = -np.ones(len(nh),int)\n",
    "\n",
    "# find seeds\n",
    "selectseed = (rho>DECISION_RHO) & (nhd>DECISION_NHD)\n",
    "seedrho = rho[selectseed]\n",
    "temp = seedrho.argsort()[::-1]\n",
    "seedid = np.empty(len(seedrho), int)\n",
    "seedid[temp] = np.arange(len(seedrho))\n",
    "cluster[selectseed] = seedid\n",
    "dfevt['isseed'] = pd.Series(selectseed.astype(int), index=dfevt.index)\n",
    "\n",
    "# asign clusters to seeds\n",
    "for ith in range(energy.size):\n",
    "    i = argsortrho[ith]\n",
    "    if (cluster[i]<0) & (nhd[i]<CONTINUITY_NHD):\n",
    "        cluster[i] = cluster[nh[i]]\n",
    "dfevt['cluster'] = pd.Series(cluster, index=dfevt.index)\n"
   ]
  },
  {
   "cell_type": "code",
   "execution_count": 11,
   "metadata": {
    "collapsed": true
   },
   "outputs": [],
   "source": [
    "dfevt.to_pickle(\"../data/test.pkl\")\n",
    "dfevt.to_csv(\"../data/test.csv\")"
   ]
  },
  {
   "cell_type": "code",
   "execution_count": null,
   "metadata": {
    "collapsed": true
   },
   "outputs": [],
   "source": []
  },
  {
   "cell_type": "code",
   "execution_count": null,
   "metadata": {
    "collapsed": true
   },
   "outputs": [],
   "source": []
  },
  {
   "cell_type": "code",
   "execution_count": null,
   "metadata": {
    "collapsed": true
   },
   "outputs": [],
   "source": []
  },
  {
   "cell_type": "code",
   "execution_count": null,
   "metadata": {
    "collapsed": true
   },
   "outputs": [],
   "source": []
  },
  {
   "cell_type": "code",
   "execution_count": 20,
   "metadata": {},
   "outputs": [
    {
     "name": "stderr",
     "output_type": "stream",
     "text": [
      "/Users/zihengchen/anaconda/lib/python3.6/site-packages/plotly/offline/offline.py:459: UserWarning:\n",
      "\n",
      "Your filename `shapes-line-ref2` didn't end with .html. Adding .html to the end of your file.\n",
      "\n"
     ]
    },
    {
     "data": {
      "text/plain": [
       "'file:///Users/zihengchen/Documents/HGCal/clustering/code/shapes-line-ref2.html'"
      ]
     },
     "execution_count": 20,
     "metadata": {},
     "output_type": "execute_result"
    }
   ],
   "source": [
    "import plotly.plotly as py\n",
    "import plotly.graph_objs as go\n",
    "from plotly.offline import download_plotlyjs, init_notebook_mode, plot, iplot\n",
    "import plotly\n",
    "\n",
    "dfevt = dfevt.reset_index(drop=True)\n",
    "rechits = go.Scatter3d(x=dfevt.ox,y=dfevt.oz,z=dfevt.oy,\n",
    "                       mode='markers',\n",
    "                       marker=dict(size=20*dfevt.energy**0.5,color=dfevt.cluster,colorscale='Jet',cmax=1,cmin=-1,opacity=0.5)) \n",
    "data = [rechits]\n",
    "layout = go.Layout(scene=dict(xaxis=dict(title='x (cm)'), yaxis=dict(title='z (cm)'), zaxis=dict(title='y (cm)')),\n",
    "                   margin=dict(l=0,r=0,b=0,t=0))\n",
    "\n",
    "fig = go.Figure(data=data, layout=layout)\n",
    "plot(fig, filename='shapes-line-ref2')"
   ]
  },
  {
   "cell_type": "code",
   "execution_count": null,
   "metadata": {
    "collapsed": true
   },
   "outputs": [],
   "source": []
  },
  {
   "cell_type": "markdown",
   "metadata": {
    "collapsed": true
   },
   "source": []
  },
  {
   "cell_type": "code",
   "execution_count": 18,
   "metadata": {},
   "outputs": [
    {
     "data": {
      "text/plain": [
       "<matplotlib.collections.PathCollection at 0x10f010390>"
      ]
     },
     "execution_count": 18,
     "metadata": {},
     "output_type": "execute_result"
    },
    {
     "data": {
      "image/png": "[encoded data removed]",
      "text/plain": [
       "<matplotlib.figure.Figure at 0x140cdaef0>"
      ]
     },
     "metadata": {},
     "output_type": "display_data"
    }
   ],
   "source": [
    "plt.scatter(dfevt.oz,dfevt.ox,\n",
    "            s=10*dfevt.rho**0.5,c=1-np.exp(-dfevt.rho),cmap=\"viridis\",edgecolor=\"None\")"
   ]
  },
  {
   "cell_type": "code",
   "execution_count": 19,
   "metadata": {},
   "outputs": [
    {
     "data": {
      "text/plain": [
       "<function matplotlib.pyplot.ylim>"
      ]
     },
     "execution_count": 19,
     "metadata": {},
     "output_type": "execute_result"
    },
    {
     "data": {
      "image/png": "[encoded data removed]",
      "text/plain": [
       "<matplotlib.figure.Figure at 0x140d5c6d8>"
      ]
     },
     "metadata": {},
     "output_type": "display_data"
    }
   ],
   "source": [
    "plt.scatter(dfevt.z,dfevt.x,\n",
    "            s=20*dfevt.energy,c=1-np.exp(-dfevt.energy),cmap=\"viridis\",edgecolor=\"None\")\n",
    "plt.xlim(-5,50)\n",
    "plt.ylim"
   ]
  },
  {
   "cell_type": "markdown",
   "metadata": {},
   "source": []
  }
 ],
 "metadata": {
  "kernelspec": {
   "display_name": "Python 3",
   "language": "python",
   "name": "python3"
  },
  "language_info": {
   "codemirror_mode": {
    "name": "ipython",
    "version": 3
   },
   "file_extension": ".py",
   "mimetype": "text/x-python",
   "name": "python",
   "nbconvert_exporter": "python",
   "pygments_lexer": "ipython3",
   "version": "3.6.1"
  }
 },
 "nbformat": 4,
 "nbformat_minor": 2
}
